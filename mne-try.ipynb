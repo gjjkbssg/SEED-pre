{
 "cells": [
  {
   "cell_type": "code",
   "execution_count": 1,
   "id": "5c2afa29-a665-4070-9b02-8653a33c3bf1",
   "metadata": {},
   "outputs": [],
   "source": [
    "import numpy as np\n",
    "\n",
    "import mne"
   ]
  },
  {
   "cell_type": "code",
   "execution_count": 2,
   "id": "65938464-0da9-4afd-ae33-68dd45436d9e",
   "metadata": {},
   "outputs": [
    {
     "name": "stdout",
     "output_type": "stream",
     "text": [
      "Opening raw data file F:\\SEED\\SEED_EEG\\Preprocessed_EEG\\/1_20131027.mat...\n"
     ]
    },
    {
     "name": "stderr",
     "output_type": "stream",
     "text": [
      "C:\\Users\\gjj\\AppData\\Local\\Temp\\ipykernel_15816\\4173902839.py:1: RuntimeWarning: This filename (F:\\SEED\\SEED_EEG\\Preprocessed_EEG\\/1_20131027.mat) does not conform to MNE naming conventions. All raw files should end with raw.fif, raw_sss.fif, raw_tsss.fif, _meg.fif, _eeg.fif, _ieeg.fif, raw.fif.gz, raw_sss.fif.gz, raw_tsss.fif.gz, _meg.fif.gz, _eeg.fif.gz or _ieeg.fif.gz\n",
      "  raw = mne.io.read_raw_fif('F:\\SEED\\SEED_EEG\\Preprocessed_EEG\\/1_20131027.mat')\n"
     ]
    },
    {
     "ename": "ValueError",
     "evalue": "file 'F:\\\\SEED\\\\SEED_EEG\\\\Preprocessed_EEG\\\\1_20131027.mat' does not start with a file id tag",
     "output_type": "error",
     "traceback": [
      "\u001b[1;31m---------------------------------------------------------------------------\u001b[0m",
      "\u001b[1;31mValueError\u001b[0m                                Traceback (most recent call last)",
      "Cell \u001b[1;32mIn[2], line 1\u001b[0m\n\u001b[1;32m----> 1\u001b[0m raw \u001b[38;5;241m=\u001b[39m \u001b[43mmne\u001b[49m\u001b[38;5;241;43m.\u001b[39;49m\u001b[43mio\u001b[49m\u001b[38;5;241;43m.\u001b[39;49m\u001b[43mread_raw_fif\u001b[49m\u001b[43m(\u001b[49m\u001b[38;5;124;43m'\u001b[39;49m\u001b[38;5;124;43mF:\u001b[39;49m\u001b[38;5;124;43m\\\u001b[39;49m\u001b[38;5;124;43mSEED\u001b[39;49m\u001b[38;5;124;43m\\\u001b[39;49m\u001b[38;5;124;43mSEED_EEG\u001b[39;49m\u001b[38;5;124;43m\\\u001b[39;49m\u001b[38;5;124;43mPreprocessed_EEG\u001b[39;49m\u001b[38;5;124;43m\\\u001b[39;49m\u001b[38;5;124;43m/1_20131027.mat\u001b[39;49m\u001b[38;5;124;43m'\u001b[39;49m\u001b[43m)\u001b[49m\n",
      "File \u001b[1;32mF:\\SEED-pre\\lib\\site-packages\\mne\\io\\fiff\\raw.py:543\u001b[0m, in \u001b[0;36mread_raw_fif\u001b[1;34m(fname, allow_maxshield, preload, on_split_missing, verbose)\u001b[0m\n\u001b[0;32m    502\u001b[0m \u001b[38;5;129m@fill_doc\u001b[39m\n\u001b[0;32m    503\u001b[0m \u001b[38;5;28;01mdef\u001b[39;00m \u001b[38;5;21mread_raw_fif\u001b[39m(\n\u001b[0;32m    504\u001b[0m     fname, allow_maxshield\u001b[38;5;241m=\u001b[39m\u001b[38;5;28;01mFalse\u001b[39;00m, preload\u001b[38;5;241m=\u001b[39m\u001b[38;5;28;01mFalse\u001b[39;00m, on_split_missing\u001b[38;5;241m=\u001b[39m\u001b[38;5;124m\"\u001b[39m\u001b[38;5;124mraise\u001b[39m\u001b[38;5;124m\"\u001b[39m, verbose\u001b[38;5;241m=\u001b[39m\u001b[38;5;28;01mNone\u001b[39;00m\n\u001b[0;32m    505\u001b[0m ):\n\u001b[0;32m    506\u001b[0m \u001b[38;5;250m    \u001b[39m\u001b[38;5;124;03m\"\"\"Reader function for Raw FIF data.\u001b[39;00m\n\u001b[0;32m    507\u001b[0m \n\u001b[0;32m    508\u001b[0m \u001b[38;5;124;03m    Parameters\u001b[39;00m\n\u001b[1;32m   (...)\u001b[0m\n\u001b[0;32m    541\u001b[0m \u001b[38;5;124;03m    are updated accordingly.\u001b[39;00m\n\u001b[0;32m    542\u001b[0m \u001b[38;5;124;03m    \"\"\"\u001b[39;00m\n\u001b[1;32m--> 543\u001b[0m     \u001b[38;5;28;01mreturn\u001b[39;00m \u001b[43mRaw\u001b[49m\u001b[43m(\u001b[49m\n\u001b[0;32m    544\u001b[0m \u001b[43m        \u001b[49m\u001b[43mfname\u001b[49m\u001b[38;5;241;43m=\u001b[39;49m\u001b[43mfname\u001b[49m\u001b[43m,\u001b[49m\n\u001b[0;32m    545\u001b[0m \u001b[43m        \u001b[49m\u001b[43mallow_maxshield\u001b[49m\u001b[38;5;241;43m=\u001b[39;49m\u001b[43mallow_maxshield\u001b[49m\u001b[43m,\u001b[49m\n\u001b[0;32m    546\u001b[0m \u001b[43m        \u001b[49m\u001b[43mpreload\u001b[49m\u001b[38;5;241;43m=\u001b[39;49m\u001b[43mpreload\u001b[49m\u001b[43m,\u001b[49m\n\u001b[0;32m    547\u001b[0m \u001b[43m        \u001b[49m\u001b[43mverbose\u001b[49m\u001b[38;5;241;43m=\u001b[39;49m\u001b[43mverbose\u001b[49m\u001b[43m,\u001b[49m\n\u001b[0;32m    548\u001b[0m \u001b[43m        \u001b[49m\u001b[43mon_split_missing\u001b[49m\u001b[38;5;241;43m=\u001b[39;49m\u001b[43mon_split_missing\u001b[49m\u001b[43m,\u001b[49m\n\u001b[0;32m    549\u001b[0m \u001b[43m    \u001b[49m\u001b[43m)\u001b[49m\n",
      "File \u001b[1;32m<decorator-gen-179>:12\u001b[0m, in \u001b[0;36m__init__\u001b[1;34m(self, fname, allow_maxshield, preload, on_split_missing, verbose)\u001b[0m\n",
      "File \u001b[1;32mF:\\SEED-pre\\lib\\site-packages\\mne\\io\\fiff\\raw.py:105\u001b[0m, in \u001b[0;36mRaw.__init__\u001b[1;34m(self, fname, allow_maxshield, preload, on_split_missing, verbose)\u001b[0m\n\u001b[0;32m    103\u001b[0m next_fname \u001b[38;5;241m=\u001b[39m fname\n\u001b[0;32m    104\u001b[0m \u001b[38;5;28;01mwhile\u001b[39;00m next_fname \u001b[38;5;129;01mis\u001b[39;00m \u001b[38;5;129;01mnot\u001b[39;00m \u001b[38;5;28;01mNone\u001b[39;00m:\n\u001b[1;32m--> 105\u001b[0m     raw, next_fname, buffer_size_sec \u001b[38;5;241m=\u001b[39m \u001b[38;5;28;43mself\u001b[39;49m\u001b[38;5;241;43m.\u001b[39;49m\u001b[43m_read_raw_file\u001b[49m\u001b[43m(\u001b[49m\n\u001b[0;32m    106\u001b[0m \u001b[43m        \u001b[49m\u001b[43mnext_fname\u001b[49m\u001b[43m,\u001b[49m\u001b[43m \u001b[49m\u001b[43mallow_maxshield\u001b[49m\u001b[43m,\u001b[49m\u001b[43m \u001b[49m\u001b[43mpreload\u001b[49m\u001b[43m,\u001b[49m\u001b[43m \u001b[49m\u001b[43mdo_check_ext\u001b[49m\n\u001b[0;32m    107\u001b[0m \u001b[43m    \u001b[49m\u001b[43m)\u001b[49m\n\u001b[0;32m    108\u001b[0m     do_check_ext \u001b[38;5;241m=\u001b[39m \u001b[38;5;28;01mFalse\u001b[39;00m\n\u001b[0;32m    109\u001b[0m     raws\u001b[38;5;241m.\u001b[39mappend(raw)\n",
      "File \u001b[1;32m<decorator-gen-180>:12\u001b[0m, in \u001b[0;36m_read_raw_file\u001b[1;34m(self, fname, allow_maxshield, preload, do_check_ext, verbose)\u001b[0m\n",
      "File \u001b[1;32mF:\\SEED-pre\\lib\\site-packages\\mne\\io\\fiff\\raw.py:197\u001b[0m, in \u001b[0;36mRaw._read_raw_file\u001b[1;34m(self, fname, allow_maxshield, preload, do_check_ext, verbose)\u001b[0m\n\u001b[0;32m    195\u001b[0m     whole_file \u001b[38;5;241m=\u001b[39m \u001b[38;5;28;01mTrue\u001b[39;00m\n\u001b[0;32m    196\u001b[0m fname_rep \u001b[38;5;241m=\u001b[39m _get_fname_rep(fname)\n\u001b[1;32m--> 197\u001b[0m ff, tree, _ \u001b[38;5;241m=\u001b[39m \u001b[43mfiff_open\u001b[49m\u001b[43m(\u001b[49m\u001b[43mfname\u001b[49m\u001b[43m,\u001b[49m\u001b[43m \u001b[49m\u001b[43mpreload\u001b[49m\u001b[38;5;241;43m=\u001b[39;49m\u001b[43mwhole_file\u001b[49m\u001b[43m)\u001b[49m\n\u001b[0;32m    198\u001b[0m \u001b[38;5;28;01mwith\u001b[39;00m ff \u001b[38;5;28;01mas\u001b[39;00m fid:\n\u001b[0;32m    199\u001b[0m     \u001b[38;5;66;03m#   Read the measurement info\u001b[39;00m\n\u001b[0;32m    201\u001b[0m     info, meas \u001b[38;5;241m=\u001b[39m read_meas_info(fid, tree, clean_bads\u001b[38;5;241m=\u001b[39m\u001b[38;5;28;01mTrue\u001b[39;00m)\n",
      "File \u001b[1;32m<decorator-gen-6>:12\u001b[0m, in \u001b[0;36mfiff_open\u001b[1;34m(fname, preload, verbose)\u001b[0m\n",
      "File \u001b[1;32mF:\\SEED-pre\\lib\\site-packages\\mne\\_fiff\\open.py:128\u001b[0m, in \u001b[0;36mfiff_open\u001b[1;34m(fname, preload, verbose)\u001b[0m\n\u001b[0;32m    126\u001b[0m fid \u001b[38;5;241m=\u001b[39m _fiff_get_fid(fname)\n\u001b[0;32m    127\u001b[0m \u001b[38;5;28;01mtry\u001b[39;00m:\n\u001b[1;32m--> 128\u001b[0m     \u001b[38;5;28;01mreturn\u001b[39;00m \u001b[43m_fiff_open\u001b[49m\u001b[43m(\u001b[49m\u001b[43mfname\u001b[49m\u001b[43m,\u001b[49m\u001b[43m \u001b[49m\u001b[43mfid\u001b[49m\u001b[43m,\u001b[49m\u001b[43m \u001b[49m\u001b[43mpreload\u001b[49m\u001b[43m)\u001b[49m\n\u001b[0;32m    129\u001b[0m \u001b[38;5;28;01mexcept\u001b[39;00m \u001b[38;5;167;01mException\u001b[39;00m:\n\u001b[0;32m    130\u001b[0m     fid\u001b[38;5;241m.\u001b[39mclose()\n",
      "File \u001b[1;32mF:\\SEED-pre\\lib\\site-packages\\mne\\_fiff\\open.py:147\u001b[0m, in \u001b[0;36m_fiff_open\u001b[1;34m(fname, fid, preload)\u001b[0m\n\u001b[0;32m    145\u001b[0m prefix \u001b[38;5;241m=\u001b[39m \u001b[38;5;124mf\u001b[39m\u001b[38;5;124m\"\u001b[39m\u001b[38;5;124mfile \u001b[39m\u001b[38;5;132;01m{\u001b[39;00m\u001b[38;5;28mrepr\u001b[39m(fname)\u001b[38;5;132;01m}\u001b[39;00m\u001b[38;5;124m does not\u001b[39m\u001b[38;5;124m\"\u001b[39m\n\u001b[0;32m    146\u001b[0m \u001b[38;5;28;01mif\u001b[39;00m tag\u001b[38;5;241m.\u001b[39mkind \u001b[38;5;241m!=\u001b[39m FIFF\u001b[38;5;241m.\u001b[39mFIFF_FILE_ID:\n\u001b[1;32m--> 147\u001b[0m     \u001b[38;5;28;01mraise\u001b[39;00m \u001b[38;5;167;01mValueError\u001b[39;00m(\u001b[38;5;124mf\u001b[39m\u001b[38;5;124m\"\u001b[39m\u001b[38;5;132;01m{\u001b[39;00mprefix\u001b[38;5;132;01m}\u001b[39;00m\u001b[38;5;124m start with a file id tag\u001b[39m\u001b[38;5;124m\"\u001b[39m)\n\u001b[0;32m    149\u001b[0m \u001b[38;5;28;01mif\u001b[39;00m tag\u001b[38;5;241m.\u001b[39mtype \u001b[38;5;241m!=\u001b[39m FIFF\u001b[38;5;241m.\u001b[39mFIFFT_ID_STRUCT:\n\u001b[0;32m    150\u001b[0m     \u001b[38;5;28;01mraise\u001b[39;00m \u001b[38;5;167;01mValueError\u001b[39;00m(\u001b[38;5;124mf\u001b[39m\u001b[38;5;124m\"\u001b[39m\u001b[38;5;132;01m{\u001b[39;00mprefix\u001b[38;5;132;01m}\u001b[39;00m\u001b[38;5;124m start with a file id tag\u001b[39m\u001b[38;5;124m\"\u001b[39m)\n",
      "\u001b[1;31mValueError\u001b[0m: file 'F:\\\\SEED\\\\SEED_EEG\\\\Preprocessed_EEG\\\\1_20131027.mat' does not start with a file id tag"
     ]
    }
   ],
   "source": [
    "\n",
    "raw = mne.io.read_raw_fif('F:\\SEED\\SEED_EEG\\Preprocessed_EEG\\/1_20131027.mat')"
   ]
  },
  {
   "cell_type": "code",
   "execution_count": 3,
   "id": "a4b03c99-bfe2-401d-8beb-4a88c8a8ec0e",
   "metadata": {},
   "outputs": [
    {
     "ename": "KeyError",
     "evalue": "'EEG'",
     "output_type": "error",
     "traceback": [
      "\u001b[1;31m---------------------------------------------------------------------------\u001b[0m",
      "\u001b[1;31mKeyError\u001b[0m                                  Traceback (most recent call last)",
      "Cell \u001b[1;32mIn[3], line 5\u001b[0m\n\u001b[0;32m      2\u001b[0m file_path \u001b[38;5;241m=\u001b[39m \u001b[38;5;124m'\u001b[39m\u001b[38;5;124mF:\u001b[39m\u001b[38;5;124m\\\u001b[39m\u001b[38;5;124mSEED\u001b[39m\u001b[38;5;124m\\\u001b[39m\u001b[38;5;124mSEED_EEG\u001b[39m\u001b[38;5;124m\\\u001b[39m\u001b[38;5;124mPreprocessed_EEG\u001b[39m\u001b[38;5;124m\\\u001b[39m\u001b[38;5;124m/1_20131027.mat\u001b[39m\u001b[38;5;124m'\u001b[39m\n\u001b[0;32m      3\u001b[0m data \u001b[38;5;241m=\u001b[39m sio\u001b[38;5;241m.\u001b[39mloadmat(file_path) \n\u001b[1;32m----> 5\u001b[0m np_arr \u001b[38;5;241m=\u001b[39m np\u001b[38;5;241m.\u001b[39marray(\u001b[43mdata\u001b[49m\u001b[43m[\u001b[49m\u001b[38;5;124;43m'\u001b[39;49m\u001b[38;5;124;43mEEG\u001b[39;49m\u001b[38;5;124;43m'\u001b[39;49m\u001b[43m]\u001b[49m[\u001b[38;5;124m'\u001b[39m\u001b[38;5;124mdata\u001b[39m\u001b[38;5;124m'\u001b[39m])\n\u001b[0;32m      6\u001b[0m np_arr\u001b[38;5;241m=\u001b[39mnp_arr\u001b[38;5;241m.\u001b[39mreshape(\u001b[38;5;241m99\u001b[39m,\u001b[38;5;241m64\u001b[39m,\u001b[38;5;241m640\u001b[39m)\n\u001b[0;32m      7\u001b[0m raw \u001b[38;5;241m=\u001b[39m mne\u001b[38;5;241m.\u001b[39mEpochsArray(np_arr,info)\n",
      "\u001b[1;31mKeyError\u001b[0m: 'EEG'"
     ]
    }
   ],
   "source": [
    "import scipy.io as sio\n",
    "file_path = 'F:\\SEED\\SEED_EEG\\Preprocessed_EEG\\/1_20131027.mat'\n",
    "data = sio.loadmat(file_path) \n",
    "\n",
    "np_arr = np.array(data['EEG']['data'])\n",
    "np_arr=np_arr.reshape(99,64,640)\n",
    "raw = mne.EpochsArray(np_arr,info)\n",
    "\n",
    "\n"
   ]
  },
  {
   "cell_type": "code",
   "execution_count": 4,
   "id": "5add3413-a7b2-4df4-a7e2-92b8a9dc9bdf",
   "metadata": {},
   "outputs": [
    {
     "ename": "ValueError",
     "evalue": "setting an array element with a sequence. The requested array has an inhomogeneous shape after 2 dimensions. The detected shape was (18, 2) + inhomogeneous part.",
     "output_type": "error",
     "traceback": [
      "\u001b[1;31m---------------------------------------------------------------------------\u001b[0m",
      "\u001b[1;31mValueError\u001b[0m                                Traceback (most recent call last)",
      "Cell \u001b[1;32mIn[4], line 2\u001b[0m\n\u001b[0;32m      1\u001b[0m dat \u001b[38;5;241m=\u001b[39m \u001b[38;5;28mlist\u001b[39m(data\u001b[38;5;241m.\u001b[39mitems())\n\u001b[1;32m----> 2\u001b[0m np_arr \u001b[38;5;241m=\u001b[39m \u001b[43mnp\u001b[49m\u001b[38;5;241;43m.\u001b[39;49m\u001b[43marray\u001b[49m\u001b[43m(\u001b[49m\u001b[43mdat\u001b[49m\u001b[43m)\u001b[49m\n",
      "\u001b[1;31mValueError\u001b[0m: setting an array element with a sequence. The requested array has an inhomogeneous shape after 2 dimensions. The detected shape was (18, 2) + inhomogeneous part."
     ]
    }
   ],
   "source": [
    "dat = list(data.items())\n",
    "np_arr = np.array(dat)"
   ]
  },
  {
   "cell_type": "code",
   "execution_count": 5,
   "id": "3ab42c22-5c91-40c6-9423-fa98516e9b15",
   "metadata": {},
   "outputs": [],
   "source": [
    "from read_file import read_one_file"
   ]
  },
  {
   "cell_type": "code",
   "execution_count": 6,
   "id": "aca92a91-44e7-4950-9a5f-d5cbee48b8f5",
   "metadata": {},
   "outputs": [
    {
     "name": "stdout",
     "output_type": "stream",
     "text": [
      "Creating RawArray with float64 data, n_channels=62, n_times=47001\n",
      "    Range : 0 ... 47000 =      0.000 ...   235.000 secs\n",
      "Ready.\n",
      "Creating RawArray with float64 data, n_channels=62, n_times=46601\n",
      "    Range : 0 ... 46600 =      0.000 ...   233.000 secs\n",
      "Ready.\n",
      "Creating RawArray with float64 data, n_channels=62, n_times=41201\n",
      "    Range : 0 ... 41200 =      0.000 ...   206.000 secs\n",
      "Ready.\n",
      "Creating RawArray with float64 data, n_channels=62, n_times=47601\n",
      "    Range : 0 ... 47600 =      0.000 ...   238.000 secs\n",
      "Ready.\n",
      "Creating RawArray with float64 data, n_channels=62, n_times=37001\n",
      "    Range : 0 ... 37000 =      0.000 ...   185.000 secs\n",
      "Ready.\n",
      "Creating RawArray with float64 data, n_channels=62, n_times=39001\n",
      "    Range : 0 ... 39000 =      0.000 ...   195.000 secs\n",
      "Ready.\n",
      "Creating RawArray with float64 data, n_channels=62, n_times=47401\n",
      "    Range : 0 ... 47400 =      0.000 ...   237.000 secs\n",
      "Ready.\n",
      "Creating RawArray with float64 data, n_channels=62, n_times=43201\n",
      "    Range : 0 ... 43200 =      0.000 ...   216.000 secs\n",
      "Ready.\n",
      "Creating RawArray with float64 data, n_channels=62, n_times=53001\n",
      "    Range : 0 ... 53000 =      0.000 ...   265.000 secs\n",
      "Ready.\n",
      "Creating RawArray with float64 data, n_channels=62, n_times=47401\n",
      "    Range : 0 ... 47400 =      0.000 ...   237.000 secs\n",
      "Ready.\n",
      "Creating RawArray with float64 data, n_channels=62, n_times=47001\n",
      "    Range : 0 ... 47000 =      0.000 ...   235.000 secs\n",
      "Ready.\n",
      "Creating RawArray with float64 data, n_channels=62, n_times=46601\n",
      "    Range : 0 ... 46600 =      0.000 ...   233.000 secs\n",
      "Ready.\n",
      "Creating RawArray with float64 data, n_channels=62, n_times=47001\n",
      "    Range : 0 ... 47000 =      0.000 ...   235.000 secs\n",
      "Ready.\n",
      "Creating RawArray with float64 data, n_channels=62, n_times=47601\n",
      "    Range : 0 ... 47600 =      0.000 ...   238.000 secs\n",
      "Ready.\n",
      "Creating RawArray with float64 data, n_channels=62, n_times=41201\n",
      "    Range : 0 ... 41200 =      0.000 ...   206.000 secs\n",
      "Ready.\n"
     ]
    }
   ],
   "source": [
    "raw=read_one_file(file_path)"
   ]
  },
  {
   "cell_type": "code",
   "execution_count": 7,
   "id": "047fe086-a534-473e-9309-ec8f67aa16f8",
   "metadata": {},
   "outputs": [
    {
     "ename": "AttributeError",
     "evalue": "'list' object has no attribute 'info'",
     "output_type": "error",
     "traceback": [
      "\u001b[1;31m---------------------------------------------------------------------------\u001b[0m",
      "\u001b[1;31mAttributeError\u001b[0m                            Traceback (most recent call last)",
      "Cell \u001b[1;32mIn[7], line 1\u001b[0m\n\u001b[1;32m----> 1\u001b[0m \u001b[43mraw\u001b[49m\u001b[38;5;241;43m.\u001b[39;49m\u001b[43minfo\u001b[49m\n",
      "\u001b[1;31mAttributeError\u001b[0m: 'list' object has no attribute 'info'"
     ]
    }
   ],
   "source": [
    "raw.info"
   ]
  },
  {
   "cell_type": "code",
   "execution_count": 8,
   "id": "c2277e6a-3565-4a2e-aa24-0fc8587130a1",
   "metadata": {},
   "outputs": [
    {
     "data": {
      "text/plain": [
       "list"
      ]
     },
     "execution_count": 8,
     "metadata": {},
     "output_type": "execute_result"
    }
   ],
   "source": [
    "type(raw)"
   ]
  },
  {
   "cell_type": "code",
   "execution_count": 9,
   "id": "b063ff7d-a8ec-4c0e-ac7d-78a75d03469d",
   "metadata": {},
   "outputs": [
    {
     "data": {
      "text/plain": [
       "<function list.count(value, /)>"
      ]
     },
     "execution_count": 9,
     "metadata": {},
     "output_type": "execute_result"
    }
   ],
   "source": [
    "raw.count"
   ]
  },
  {
   "cell_type": "code",
   "execution_count": 10,
   "id": "88c03e20-206b-44f0-a470-f5138220230c",
   "metadata": {},
   "outputs": [
    {
     "ename": "AttributeError",
     "evalue": "'list' object has no attribute 'info'",
     "output_type": "error",
     "traceback": [
      "\u001b[1;31m---------------------------------------------------------------------------\u001b[0m",
      "\u001b[1;31mAttributeError\u001b[0m                            Traceback (most recent call last)",
      "Cell \u001b[1;32mIn[10], line 1\u001b[0m\n\u001b[1;32m----> 1\u001b[0m \u001b[43mraw\u001b[49m\u001b[38;5;241;43m.\u001b[39;49m\u001b[43minfo\u001b[49m[\u001b[38;5;124m'\u001b[39m\u001b[38;5;124msfreq\u001b[39m\u001b[38;5;124m'\u001b[39m]\n",
      "\u001b[1;31mAttributeError\u001b[0m: 'list' object has no attribute 'info'"
     ]
    }
   ],
   "source": [
    "raw.info['sfreq']"
   ]
  },
  {
   "cell_type": "code",
   "execution_count": 11,
   "id": "ef86fa58-a2f0-4c94-83aa-8c23857aa2c8",
   "metadata": {},
   "outputs": [
    {
     "data": {
      "text/html": [
       "<details open>\n",
       "    <summary><strong>General</strong></summary>\n",
       "    <table class=\"table table-hover table-striped table-sm table-responsive small\">\n",
       "        <tr>\n",
       "            <th>Measurement date</th>\n",
       "            \n",
       "            <td>Unknown</td>\n",
       "            \n",
       "        </tr>\n",
       "        <tr>\n",
       "            <th>Experimenter</th>\n",
       "            \n",
       "            <td>Unknown</td>\n",
       "            \n",
       "        </tr>\n",
       "        <tr>\n",
       "            <th>Participant</th>\n",
       "            \n",
       "            <td>Unknown</td>\n",
       "            \n",
       "        </tr>\n",
       "    </table>\n",
       "    </details>\n",
       "    <details open>\n",
       "        <summary><strong>Channels</strong></summary>\n",
       "        <table class=\"table table-hover table-striped table-sm table-responsive small\">\n",
       "            <tr>\n",
       "                <th>Digitized points</th>\n",
       "                \n",
       "                <td>Not available</td>\n",
       "                \n",
       "            </tr>\n",
       "            <tr>\n",
       "                <th>Good channels</th>\n",
       "                <td>62 EEG</td>\n",
       "            </tr>\n",
       "            <tr>\n",
       "                <th>Bad channels</th>\n",
       "                <td>None</td>\n",
       "            </tr>\n",
       "            <tr>\n",
       "                <th>EOG channels</th>\n",
       "                <td>Not available</td>\n",
       "            </tr>\n",
       "            <tr>\n",
       "                <th>ECG channels</th>\n",
       "                <td>Not available</td>\n",
       "            </tr>\n",
       "        </table>\n",
       "        </details>\n",
       "        <details open>\n",
       "            <summary><strong>Data</strong></summary>\n",
       "            <table class=\"table table-hover table-striped table-sm table-responsive small\">\n",
       "                \n",
       "                <tr>\n",
       "                    <th>Sampling frequency</th>\n",
       "                    <td>200.00 Hz</td>\n",
       "                </tr>\n",
       "                \n",
       "                \n",
       "                <tr>\n",
       "                    <th>Highpass</th>\n",
       "                    <td>0.00 Hz</td>\n",
       "                </tr>\n",
       "                \n",
       "                \n",
       "                <tr>\n",
       "                    <th>Lowpass</th>\n",
       "                    <td>100.00 Hz</td>\n",
       "                </tr>\n",
       "                \n",
       "                \n",
       "                \n",
       "                \n",
       "                <tr>\n",
       "                    <th>Duration</th>\n",
       "                    <td>00:03:50 (HH:MM:SS)</td>\n",
       "                </tr>\n",
       "                \n",
       "            </table>\n",
       "            </details>"
      ],
      "text/plain": [
       "<RawArray | 62 x 46001 (230.0 s), ~21.8 MB, data loaded>"
      ]
     },
     "execution_count": 11,
     "metadata": {},
     "output_type": "execute_result"
    }
   ],
   "source": [
    "raw[0]"
   ]
  },
  {
   "cell_type": "code",
   "execution_count": 12,
   "id": "688af9e3-a286-465f-8524-303d086708ef",
   "metadata": {},
   "outputs": [
    {
     "data": {
      "text/html": [
       "<details open>\n",
       "    <summary><strong>General</strong></summary>\n",
       "    <table class=\"table table-hover table-striped table-sm table-responsive small\">\n",
       "        <tr>\n",
       "            <th>Measurement date</th>\n",
       "            \n",
       "            <td>Unknown</td>\n",
       "            \n",
       "        </tr>\n",
       "        <tr>\n",
       "            <th>Experimenter</th>\n",
       "            \n",
       "            <td>Unknown</td>\n",
       "            \n",
       "        </tr>\n",
       "        <tr>\n",
       "            <th>Participant</th>\n",
       "            \n",
       "            <td>Unknown</td>\n",
       "            \n",
       "        </tr>\n",
       "    </table>\n",
       "    </details>\n",
       "    <details open>\n",
       "        <summary><strong>Channels</strong></summary>\n",
       "        <table class=\"table table-hover table-striped table-sm table-responsive small\">\n",
       "            <tr>\n",
       "                <th>Digitized points</th>\n",
       "                \n",
       "                <td>Not available</td>\n",
       "                \n",
       "            </tr>\n",
       "            <tr>\n",
       "                <th>Good channels</th>\n",
       "                <td>62 EEG</td>\n",
       "            </tr>\n",
       "            <tr>\n",
       "                <th>Bad channels</th>\n",
       "                <td>None</td>\n",
       "            </tr>\n",
       "            <tr>\n",
       "                <th>EOG channels</th>\n",
       "                <td>Not available</td>\n",
       "            </tr>\n",
       "            <tr>\n",
       "                <th>ECG channels</th>\n",
       "                <td>Not available</td>\n",
       "            </tr>\n",
       "        </table>\n",
       "        </details>\n",
       "        <details open>\n",
       "            <summary><strong>Data</strong></summary>\n",
       "            <table class=\"table table-hover table-striped table-sm table-responsive small\">\n",
       "                \n",
       "                <tr>\n",
       "                    <th>Sampling frequency</th>\n",
       "                    <td>200.00 Hz</td>\n",
       "                </tr>\n",
       "                \n",
       "                \n",
       "                <tr>\n",
       "                    <th>Highpass</th>\n",
       "                    <td>0.00 Hz</td>\n",
       "                </tr>\n",
       "                \n",
       "                \n",
       "                <tr>\n",
       "                    <th>Lowpass</th>\n",
       "                    <td>100.00 Hz</td>\n",
       "                </tr>\n",
       "                \n",
       "                \n",
       "                \n",
       "                \n",
       "                <tr>\n",
       "                    <th>Duration</th>\n",
       "                    <td>00:03:48 (HH:MM:SS)</td>\n",
       "                </tr>\n",
       "                \n",
       "            </table>\n",
       "            </details>"
      ],
      "text/plain": [
       "<RawArray | 62 x 45601 (228.0 s), ~21.6 MB, data loaded>"
      ]
     },
     "execution_count": 12,
     "metadata": {},
     "output_type": "execute_result"
    }
   ],
   "source": [
    "raw[1]"
   ]
  },
  {
   "cell_type": "code",
   "execution_count": 13,
   "id": "eab6f5bc-ede5-4fb2-98a5-f954fb862565",
   "metadata": {},
   "outputs": [
    {
     "data": {
      "text/plain": [
       "(array([[ 11.26527786,   8.37445259,   3.60608101, ..., -24.31869507,\n",
       "         -27.74596214, -22.5007534 ]]),\n",
       " array([0.00000e+00, 5.00000e-03, 1.00000e-02, ..., 2.29990e+02,\n",
       "        2.29995e+02, 2.30000e+02]))"
      ]
     },
     "execution_count": 13,
     "metadata": {},
     "output_type": "execute_result"
    }
   ],
   "source": [
    "raw[0][1]"
   ]
  },
  {
   "cell_type": "code",
   "execution_count": 14,
   "id": "130b13f3-464c-46ff-ad20-23eaf5d681be",
   "metadata": {},
   "outputs": [
    {
     "data": {
      "text/plain": [
       "(array([[ -3.03983688,  -4.17232513,  -7.48038292, ..., -46.10419273,\n",
       "         -51.05137825, -43.6604023 ]]),\n",
       " array([0.00000e+00, 5.00000e-03, 1.00000e-02, ..., 2.29990e+02,\n",
       "        2.29995e+02, 2.30000e+02]))"
      ]
     },
     "execution_count": 14,
     "metadata": {},
     "output_type": "execute_result"
    }
   ],
   "source": [
    "raw[0][0]"
   ]
  },
  {
   "cell_type": "code",
   "execution_count": 15,
   "id": "c3aabdef-9015-4e9e-9c0e-4a729f5f4b80",
   "metadata": {},
   "outputs": [
    {
     "ename": "ValueError",
     "evalue": "setting an array element with a sequence. The requested array has an inhomogeneous shape after 3 dimensions. The detected shape was (15, 62, 2) + inhomogeneous part.",
     "output_type": "error",
     "traceback": [
      "\u001b[1;31m---------------------------------------------------------------------------\u001b[0m",
      "\u001b[1;31mValueError\u001b[0m                                Traceback (most recent call last)",
      "Cell \u001b[1;32mIn[15], line 1\u001b[0m\n\u001b[1;32m----> 1\u001b[0m dimen \u001b[38;5;241m=\u001b[39m \u001b[43mnp\u001b[49m\u001b[38;5;241;43m.\u001b[39;49m\u001b[43marray\u001b[49m\u001b[43m(\u001b[49m\u001b[43mraw\u001b[49m\u001b[43m)\u001b[49m\u001b[38;5;241m.\u001b[39mshape\n\u001b[0;32m      2\u001b[0m \u001b[38;5;28mprint\u001b[39m(dimen)\n",
      "\u001b[1;31mValueError\u001b[0m: setting an array element with a sequence. The requested array has an inhomogeneous shape after 3 dimensions. The detected shape was (15, 62, 2) + inhomogeneous part."
     ]
    }
   ],
   "source": [
    "dimen = np.array(raw).shape\n",
    "print(dimen)"
   ]
  },
  {
   "cell_type": "code",
   "execution_count": 16,
   "id": "421aa7c3-c66a-486d-bb2d-526c972c0df2",
   "metadata": {},
   "outputs": [
    {
     "ename": "NameError",
     "evalue": "name 'data_to_assign_shape' is not defined",
     "output_type": "error",
     "traceback": [
      "\u001b[1;31m---------------------------------------------------------------------------\u001b[0m",
      "\u001b[1;31mNameError\u001b[0m                                 Traceback (most recent call last)",
      "Cell \u001b[1;32mIn[16], line 4\u001b[0m\n\u001b[0;32m      1\u001b[0m target_shape \u001b[38;5;241m=\u001b[39m (\u001b[38;5;241m15\u001b[39m, \u001b[38;5;241m62\u001b[39m, \u001b[38;5;241m2\u001b[39m)\n\u001b[0;32m      3\u001b[0m \u001b[38;5;28;01mfor\u001b[39;00m i \u001b[38;5;129;01min\u001b[39;00m \u001b[38;5;28mrange\u001b[39m(\u001b[38;5;28mlen\u001b[39m(target_shape)):\n\u001b[1;32m----> 4\u001b[0m     \u001b[38;5;28;01mif\u001b[39;00m \u001b[43mdata_to_assign_shape\u001b[49m[i] \u001b[38;5;241m!=\u001b[39m target_shape[i]:\n\u001b[0;32m      5\u001b[0m         \u001b[38;5;28mprint\u001b[39m(\u001b[38;5;124mf\u001b[39m\u001b[38;5;124m\"\u001b[39m\u001b[38;5;124mDimension \u001b[39m\u001b[38;5;132;01m{\u001b[39;00mi\u001b[38;5;132;01m}\u001b[39;00m\u001b[38;5;124m is not matching. Target shape: \u001b[39m\u001b[38;5;132;01m{\u001b[39;00mtarget_shape[i]\u001b[38;5;132;01m}\u001b[39;00m\u001b[38;5;124m, Data shape: \u001b[39m\u001b[38;5;132;01m{\u001b[39;00mdata_to_assign_shape[i]\u001b[38;5;132;01m}\u001b[39;00m\u001b[38;5;124m\"\u001b[39m)\n",
      "\u001b[1;31mNameError\u001b[0m: name 'data_to_assign_shape' is not defined"
     ]
    }
   ],
   "source": [
    "target_shape = (15, 62, 2)\n",
    "\n",
    "for i in range(len(target_shape)):\n",
    "    if data_to_assign_shape[i] != target_shape[i]:\n",
    "        print(f\"Dimension {i} is not matching. Target shape: {target_shape[i]}, Data shape: {data_to_assign_shape[i]}\")\n"
   ]
  },
  {
   "cell_type": "code",
   "execution_count": 17,
   "id": "b3def542-1345-417c-a3e0-bd273cd1f7c3",
   "metadata": {},
   "outputs": [
    {
     "ename": "NameError",
     "evalue": "name 'data_to_assign_shape' is not defined",
     "output_type": "error",
     "traceback": [
      "\u001b[1;31m---------------------------------------------------------------------------\u001b[0m",
      "\u001b[1;31mNameError\u001b[0m                                 Traceback (most recent call last)",
      "Cell \u001b[1;32mIn[17], line 5\u001b[0m\n\u001b[0;32m      3\u001b[0m \u001b[38;5;28;01mfor\u001b[39;00m i \u001b[38;5;129;01min\u001b[39;00m \u001b[38;5;28mrange\u001b[39m(\u001b[38;5;28mlen\u001b[39m(target_shape)):\n\u001b[0;32m      4\u001b[0m     \u001b[38;5;28;01mif\u001b[39;00m raw[i] \u001b[38;5;241m!=\u001b[39m target_shape[i]:\n\u001b[1;32m----> 5\u001b[0m         \u001b[38;5;28mprint\u001b[39m(\u001b[38;5;124mf\u001b[39m\u001b[38;5;124m\"\u001b[39m\u001b[38;5;124mDimension \u001b[39m\u001b[38;5;132;01m{\u001b[39;00mi\u001b[38;5;132;01m}\u001b[39;00m\u001b[38;5;124m is not matching. Target shape: \u001b[39m\u001b[38;5;132;01m{\u001b[39;00mtarget_shape[i]\u001b[38;5;132;01m}\u001b[39;00m\u001b[38;5;124m, Data shape: \u001b[39m\u001b[38;5;132;01m{\u001b[39;00mdata_to_assign_shape[i]\u001b[38;5;132;01m}\u001b[39;00m\u001b[38;5;124m\"\u001b[39m)\n",
      "\u001b[1;31mNameError\u001b[0m: name 'data_to_assign_shape' is not defined"
     ]
    }
   ],
   "source": [
    "target_shape = (15, 62, 2)\n",
    "\n",
    "for i in range(len(target_shape)):\n",
    "    if raw[i] != target_shape[i]:\n",
    "        print(f\"Dimension {i} is not matching. Target shape: {target_shape[i]}, Data shape: {data_to_assign_shape[i]}\")\n"
   ]
  },
  {
   "cell_type": "code",
   "execution_count": 18,
   "id": "f330e175-68be-4e4b-a660-d379bc9c093e",
   "metadata": {},
   "outputs": [
    {
     "name": "stdout",
     "output_type": "stream",
     "text": [
      "Dimension 0 is not matching. Target shape: 15, Data shape: <RawArray | 62 x 46001 (230.0 s), ~21.8 MB, data loaded>\n",
      "Dimension 1 is not matching. Target shape: 62, Data shape: <RawArray | 62 x 45601 (228.0 s), ~21.6 MB, data loaded>\n",
      "Dimension 2 is not matching. Target shape: 2, Data shape: <RawArray | 62 x 40201 (201.0 s), ~19.1 MB, data loaded>\n"
     ]
    }
   ],
   "source": [
    "target_shape = (15, 62, 2)\n",
    "\n",
    "for i in range(len(target_shape)):\n",
    "    if raw[i] != target_shape[i]:\n",
    "        print(f\"Dimension {i} is not matching. Target shape: {target_shape[i]}, Data shape: {raw[i]}\")"
   ]
  },
  {
   "cell_type": "code",
   "execution_count": 19,
   "id": "4fb61844-436b-4e8b-81cb-7f1c011d663f",
   "metadata": {},
   "outputs": [
    {
     "data": {
      "text/html": [
       "<details open>\n",
       "    <summary><strong>General</strong></summary>\n",
       "    <table class=\"table table-hover table-striped table-sm table-responsive small\">\n",
       "        <tr>\n",
       "            <th>Measurement date</th>\n",
       "            \n",
       "            <td>Unknown</td>\n",
       "            \n",
       "        </tr>\n",
       "        <tr>\n",
       "            <th>Experimenter</th>\n",
       "            \n",
       "            <td>Unknown</td>\n",
       "            \n",
       "        </tr>\n",
       "        <tr>\n",
       "            <th>Participant</th>\n",
       "            \n",
       "            <td>Unknown</td>\n",
       "            \n",
       "        </tr>\n",
       "    </table>\n",
       "    </details>\n",
       "    <details open>\n",
       "        <summary><strong>Channels</strong></summary>\n",
       "        <table class=\"table table-hover table-striped table-sm table-responsive small\">\n",
       "            <tr>\n",
       "                <th>Digitized points</th>\n",
       "                \n",
       "                <td>Not available</td>\n",
       "                \n",
       "            </tr>\n",
       "            <tr>\n",
       "                <th>Good channels</th>\n",
       "                <td>62 EEG</td>\n",
       "            </tr>\n",
       "            <tr>\n",
       "                <th>Bad channels</th>\n",
       "                <td>None</td>\n",
       "            </tr>\n",
       "            <tr>\n",
       "                <th>EOG channels</th>\n",
       "                <td>Not available</td>\n",
       "            </tr>\n",
       "            <tr>\n",
       "                <th>ECG channels</th>\n",
       "                <td>Not available</td>\n",
       "            </tr>\n",
       "        </table>\n",
       "        </details>\n",
       "        <details open>\n",
       "            <summary><strong>Data</strong></summary>\n",
       "            <table class=\"table table-hover table-striped table-sm table-responsive small\">\n",
       "                \n",
       "                <tr>\n",
       "                    <th>Sampling frequency</th>\n",
       "                    <td>200.00 Hz</td>\n",
       "                </tr>\n",
       "                \n",
       "                \n",
       "                <tr>\n",
       "                    <th>Highpass</th>\n",
       "                    <td>0.00 Hz</td>\n",
       "                </tr>\n",
       "                \n",
       "                \n",
       "                <tr>\n",
       "                    <th>Lowpass</th>\n",
       "                    <td>100.00 Hz</td>\n",
       "                </tr>\n",
       "                \n",
       "                \n",
       "                \n",
       "                \n",
       "                <tr>\n",
       "                    <th>Duration</th>\n",
       "                    <td>00:03:21 (HH:MM:SS)</td>\n",
       "                </tr>\n",
       "                \n",
       "            </table>\n",
       "            </details>"
      ],
      "text/plain": [
       "<RawArray | 62 x 40201 (201.0 s), ~19.1 MB, data loaded>"
      ]
     },
     "execution_count": 19,
     "metadata": {},
     "output_type": "execute_result"
    }
   ],
   "source": [
    "raw[0]\n",
    "raw[1]\n",
    "raw[2]"
   ]
  },
  {
   "cell_type": "code",
   "execution_count": 20,
   "id": "6136a576-3d8e-491d-91b1-eb3fa7164006",
   "metadata": {},
   "outputs": [
    {
     "data": {
      "text/html": [
       "<details open>\n",
       "    <summary><strong>General</strong></summary>\n",
       "    <table class=\"table table-hover table-striped table-sm table-responsive small\">\n",
       "        <tr>\n",
       "            <th>Measurement date</th>\n",
       "            \n",
       "            <td>Unknown</td>\n",
       "            \n",
       "        </tr>\n",
       "        <tr>\n",
       "            <th>Experimenter</th>\n",
       "            \n",
       "            <td>Unknown</td>\n",
       "            \n",
       "        </tr>\n",
       "        <tr>\n",
       "            <th>Participant</th>\n",
       "            \n",
       "            <td>Unknown</td>\n",
       "            \n",
       "        </tr>\n",
       "    </table>\n",
       "    </details>\n",
       "    <details open>\n",
       "        <summary><strong>Channels</strong></summary>\n",
       "        <table class=\"table table-hover table-striped table-sm table-responsive small\">\n",
       "            <tr>\n",
       "                <th>Digitized points</th>\n",
       "                \n",
       "                <td>Not available</td>\n",
       "                \n",
       "            </tr>\n",
       "            <tr>\n",
       "                <th>Good channels</th>\n",
       "                <td>62 EEG</td>\n",
       "            </tr>\n",
       "            <tr>\n",
       "                <th>Bad channels</th>\n",
       "                <td>None</td>\n",
       "            </tr>\n",
       "            <tr>\n",
       "                <th>EOG channels</th>\n",
       "                <td>Not available</td>\n",
       "            </tr>\n",
       "            <tr>\n",
       "                <th>ECG channels</th>\n",
       "                <td>Not available</td>\n",
       "            </tr>\n",
       "        </table>\n",
       "        </details>\n",
       "        <details open>\n",
       "            <summary><strong>Data</strong></summary>\n",
       "            <table class=\"table table-hover table-striped table-sm table-responsive small\">\n",
       "                \n",
       "                <tr>\n",
       "                    <th>Sampling frequency</th>\n",
       "                    <td>200.00 Hz</td>\n",
       "                </tr>\n",
       "                \n",
       "                \n",
       "                <tr>\n",
       "                    <th>Highpass</th>\n",
       "                    <td>0.00 Hz</td>\n",
       "                </tr>\n",
       "                \n",
       "                \n",
       "                <tr>\n",
       "                    <th>Lowpass</th>\n",
       "                    <td>100.00 Hz</td>\n",
       "                </tr>\n",
       "                \n",
       "                \n",
       "                \n",
       "                \n",
       "                <tr>\n",
       "                    <th>Duration</th>\n",
       "                    <td>00:03:00 (HH:MM:SS)</td>\n",
       "                </tr>\n",
       "                \n",
       "            </table>\n",
       "            </details>"
      ],
      "text/plain": [
       "<RawArray | 62 x 36001 (180.0 s), ~17.1 MB, data loaded>"
      ]
     },
     "execution_count": 20,
     "metadata": {},
     "output_type": "execute_result"
    }
   ],
   "source": [
    "raw[4]"
   ]
  },
  {
   "cell_type": "code",
   "execution_count": 21,
   "id": "51479c3f-b043-436c-9258-b056a6f8c2ae",
   "metadata": {},
   "outputs": [
    {
     "ename": "IndexError",
     "evalue": "list index out of range",
     "output_type": "error",
     "traceback": [
      "\u001b[1;31m---------------------------------------------------------------------------\u001b[0m",
      "\u001b[1;31mIndexError\u001b[0m                                Traceback (most recent call last)",
      "Cell \u001b[1;32mIn[21], line 1\u001b[0m\n\u001b[1;32m----> 1\u001b[0m \u001b[43mraw\u001b[49m\u001b[43m[\u001b[49m\u001b[38;5;241;43m15\u001b[39;49m\u001b[43m]\u001b[49m\n",
      "\u001b[1;31mIndexError\u001b[0m: list index out of range"
     ]
    }
   ],
   "source": [
    "raw[15]\n"
   ]
  },
  {
   "cell_type": "code",
   "execution_count": 22,
   "id": "dbc5ebfa-f2ec-4f21-a218-78f17b125b1b",
   "metadata": {},
   "outputs": [
    {
     "ename": "ValueError",
     "evalue": "cannot create an OBJECT array from memory buffer",
     "output_type": "error",
     "traceback": [
      "\u001b[1;31m---------------------------------------------------------------------------\u001b[0m",
      "\u001b[1;31mValueError\u001b[0m                                Traceback (most recent call last)",
      "Cell \u001b[1;32mIn[22], line 1\u001b[0m\n\u001b[1;32m----> 1\u001b[0m numpy_array \u001b[38;5;241m=\u001b[39m \u001b[43mnp\u001b[49m\u001b[38;5;241;43m.\u001b[39;49m\u001b[43mfrombuffer\u001b[49m\u001b[43m(\u001b[49m\u001b[43mraw\u001b[49m\u001b[43m,\u001b[49m\u001b[43m \u001b[49m\u001b[43mdtype\u001b[49m\u001b[38;5;241;43m=\u001b[39;49m\u001b[38;5;28;43mobject\u001b[39;49m\u001b[43m)\u001b[49m\n",
      "\u001b[1;31mValueError\u001b[0m: cannot create an OBJECT array from memory buffer"
     ]
    }
   ],
   "source": [
    "numpy_array = np.frombuffer(raw, dtype=object)"
   ]
  },
  {
   "cell_type": "code",
   "execution_count": 23,
   "id": "80e4503b-05b8-4899-8ebc-27759c98e3e7",
   "metadata": {},
   "outputs": [
    {
     "ename": "NameError",
     "evalue": "name 'data_to_assign' is not defined",
     "output_type": "error",
     "traceback": [
      "\u001b[1;31m---------------------------------------------------------------------------\u001b[0m",
      "\u001b[1;31mNameError\u001b[0m                                 Traceback (most recent call last)",
      "Cell \u001b[1;32mIn[23], line 1\u001b[0m\n\u001b[1;32m----> 1\u001b[0m numpy_array \u001b[38;5;241m=\u001b[39m np\u001b[38;5;241m.\u001b[39mfrombuffer(\u001b[43mdata_to_assign\u001b[49m, dtype\u001b[38;5;241m=\u001b[39mnp\u001b[38;5;241m.\u001b[39mobject)\n",
      "\u001b[1;31mNameError\u001b[0m: name 'data_to_assign' is not defined"
     ]
    }
   ],
   "source": [
    "numpy_array = np.frombuffer(data_to_assign, dtype=np.object)"
   ]
  },
  {
   "cell_type": "code",
   "execution_count": 24,
   "id": "696fd7a5-aa80-41f7-aeaf-d11010d5108d",
   "metadata": {},
   "outputs": [
    {
     "name": "stderr",
     "output_type": "stream",
     "text": [
      "C:\\Users\\gjj\\AppData\\Local\\Temp\\ipykernel_15816\\3145398798.py:1: FutureWarning: In the future `np.object` will be defined as the corresponding NumPy scalar.\n",
      "  numpy_array = np.frombuffer(raw, dtype=np.object)\n"
     ]
    },
    {
     "ename": "AttributeError",
     "evalue": "module 'numpy' has no attribute 'object'.\n`np.object` was a deprecated alias for the builtin `object`. To avoid this error in existing code, use `object` by itself. Doing this will not modify any behavior and is safe. \nThe aliases was originally deprecated in NumPy 1.20; for more details and guidance see the original release note at:\n    https://numpy.org/devdocs/release/1.20.0-notes.html#deprecations",
     "output_type": "error",
     "traceback": [
      "\u001b[1;31m---------------------------------------------------------------------------\u001b[0m",
      "\u001b[1;31mAttributeError\u001b[0m                            Traceback (most recent call last)",
      "Cell \u001b[1;32mIn[24], line 1\u001b[0m\n\u001b[1;32m----> 1\u001b[0m numpy_array \u001b[38;5;241m=\u001b[39m np\u001b[38;5;241m.\u001b[39mfrombuffer(raw, dtype\u001b[38;5;241m=\u001b[39m\u001b[43mnp\u001b[49m\u001b[38;5;241;43m.\u001b[39;49m\u001b[43mobject\u001b[49m)\n",
      "File \u001b[1;32mF:\\SEED-pre\\lib\\site-packages\\numpy\\__init__.py:338\u001b[0m, in \u001b[0;36m__getattr__\u001b[1;34m(attr)\u001b[0m\n\u001b[0;32m    333\u001b[0m     warnings\u001b[38;5;241m.\u001b[39mwarn(\n\u001b[0;32m    334\u001b[0m         \u001b[38;5;124mf\u001b[39m\u001b[38;5;124m\"\u001b[39m\u001b[38;5;124mIn the future `np.\u001b[39m\u001b[38;5;132;01m{\u001b[39;00mattr\u001b[38;5;132;01m}\u001b[39;00m\u001b[38;5;124m` will be defined as the \u001b[39m\u001b[38;5;124m\"\u001b[39m\n\u001b[0;32m    335\u001b[0m         \u001b[38;5;124m\"\u001b[39m\u001b[38;5;124mcorresponding NumPy scalar.\u001b[39m\u001b[38;5;124m\"\u001b[39m, \u001b[38;5;167;01mFutureWarning\u001b[39;00m, stacklevel\u001b[38;5;241m=\u001b[39m\u001b[38;5;241m2\u001b[39m)\n\u001b[0;32m    337\u001b[0m \u001b[38;5;28;01mif\u001b[39;00m attr \u001b[38;5;129;01min\u001b[39;00m __former_attrs__:\n\u001b[1;32m--> 338\u001b[0m     \u001b[38;5;28;01mraise\u001b[39;00m \u001b[38;5;167;01mAttributeError\u001b[39;00m(__former_attrs__[attr])\n\u001b[0;32m    340\u001b[0m \u001b[38;5;28;01mif\u001b[39;00m attr \u001b[38;5;241m==\u001b[39m \u001b[38;5;124m'\u001b[39m\u001b[38;5;124mtesting\u001b[39m\u001b[38;5;124m'\u001b[39m:\n\u001b[0;32m    341\u001b[0m     \u001b[38;5;28;01mimport\u001b[39;00m \u001b[38;5;21;01mnumpy\u001b[39;00m\u001b[38;5;21;01m.\u001b[39;00m\u001b[38;5;21;01mtesting\u001b[39;00m \u001b[38;5;28;01mas\u001b[39;00m \u001b[38;5;21;01mtesting\u001b[39;00m\n",
      "\u001b[1;31mAttributeError\u001b[0m: module 'numpy' has no attribute 'object'.\n`np.object` was a deprecated alias for the builtin `object`. To avoid this error in existing code, use `object` by itself. Doing this will not modify any behavior and is safe. \nThe aliases was originally deprecated in NumPy 1.20; for more details and guidance see the original release note at:\n    https://numpy.org/devdocs/release/1.20.0-notes.html#deprecations"
     ]
    }
   ],
   "source": [
    "numpy_array = np.frombuffer(raw, dtype=np.object)"
   ]
  },
  {
   "cell_type": "code",
   "execution_count": 25,
   "id": "3d0e04b6-25a1-46a5-a305-931f04ef4f28",
   "metadata": {},
   "outputs": [
    {
     "ename": "ValueError",
     "evalue": "cannot create an OBJECT array from memory buffer",
     "output_type": "error",
     "traceback": [
      "\u001b[1;31m---------------------------------------------------------------------------\u001b[0m",
      "\u001b[1;31mValueError\u001b[0m                                Traceback (most recent call last)",
      "Cell \u001b[1;32mIn[25], line 1\u001b[0m\n\u001b[1;32m----> 1\u001b[0m numpy_array \u001b[38;5;241m=\u001b[39m \u001b[43mnp\u001b[49m\u001b[38;5;241;43m.\u001b[39;49m\u001b[43mfrombuffer\u001b[49m\u001b[43m(\u001b[49m\u001b[43mraw\u001b[49m\u001b[43m,\u001b[49m\u001b[43m \u001b[49m\u001b[43mdtype\u001b[49m\u001b[38;5;241;43m=\u001b[39;49m\u001b[38;5;28;43mobject\u001b[39;49m\u001b[43m)\u001b[49m\n",
      "\u001b[1;31mValueError\u001b[0m: cannot create an OBJECT array from memory buffer"
     ]
    }
   ],
   "source": [
    "numpy_array = np.frombuffer(raw, dtype=object)"
   ]
  },
  {
   "cell_type": "code",
   "execution_count": 26,
   "id": "88d6c051-9754-4267-b364-07b20757e6bc",
   "metadata": {},
   "outputs": [
    {
     "ename": "AttributeError",
     "evalue": "module 'numpy' has no attribute 'float'.\n`np.float` was a deprecated alias for the builtin `float`. To avoid this error in existing code, use `float` by itself. Doing this will not modify any behavior and is safe. If you specifically wanted the numpy scalar type, use `np.float64` here.\nThe aliases was originally deprecated in NumPy 1.20; for more details and guidance see the original release note at:\n    https://numpy.org/devdocs/release/1.20.0-notes.html#deprecations",
     "output_type": "error",
     "traceback": [
      "\u001b[1;31m---------------------------------------------------------------------------\u001b[0m",
      "\u001b[1;31mAttributeError\u001b[0m                            Traceback (most recent call last)",
      "Cell \u001b[1;32mIn[26], line 1\u001b[0m\n\u001b[1;32m----> 1\u001b[0m numpy_array \u001b[38;5;241m=\u001b[39m np\u001b[38;5;241m.\u001b[39mfrombuffer(raw, dtype\u001b[38;5;241m=\u001b[39m\u001b[43mnp\u001b[49m\u001b[38;5;241;43m.\u001b[39;49m\u001b[43mfloat\u001b[49m)\n",
      "File \u001b[1;32mF:\\SEED-pre\\lib\\site-packages\\numpy\\__init__.py:338\u001b[0m, in \u001b[0;36m__getattr__\u001b[1;34m(attr)\u001b[0m\n\u001b[0;32m    333\u001b[0m     warnings\u001b[38;5;241m.\u001b[39mwarn(\n\u001b[0;32m    334\u001b[0m         \u001b[38;5;124mf\u001b[39m\u001b[38;5;124m\"\u001b[39m\u001b[38;5;124mIn the future `np.\u001b[39m\u001b[38;5;132;01m{\u001b[39;00mattr\u001b[38;5;132;01m}\u001b[39;00m\u001b[38;5;124m` will be defined as the \u001b[39m\u001b[38;5;124m\"\u001b[39m\n\u001b[0;32m    335\u001b[0m         \u001b[38;5;124m\"\u001b[39m\u001b[38;5;124mcorresponding NumPy scalar.\u001b[39m\u001b[38;5;124m\"\u001b[39m, \u001b[38;5;167;01mFutureWarning\u001b[39;00m, stacklevel\u001b[38;5;241m=\u001b[39m\u001b[38;5;241m2\u001b[39m)\n\u001b[0;32m    337\u001b[0m \u001b[38;5;28;01mif\u001b[39;00m attr \u001b[38;5;129;01min\u001b[39;00m __former_attrs__:\n\u001b[1;32m--> 338\u001b[0m     \u001b[38;5;28;01mraise\u001b[39;00m \u001b[38;5;167;01mAttributeError\u001b[39;00m(__former_attrs__[attr])\n\u001b[0;32m    340\u001b[0m \u001b[38;5;28;01mif\u001b[39;00m attr \u001b[38;5;241m==\u001b[39m \u001b[38;5;124m'\u001b[39m\u001b[38;5;124mtesting\u001b[39m\u001b[38;5;124m'\u001b[39m:\n\u001b[0;32m    341\u001b[0m     \u001b[38;5;28;01mimport\u001b[39;00m \u001b[38;5;21;01mnumpy\u001b[39;00m\u001b[38;5;21;01m.\u001b[39;00m\u001b[38;5;21;01mtesting\u001b[39;00m \u001b[38;5;28;01mas\u001b[39;00m \u001b[38;5;21;01mtesting\u001b[39;00m\n",
      "\u001b[1;31mAttributeError\u001b[0m: module 'numpy' has no attribute 'float'.\n`np.float` was a deprecated alias for the builtin `float`. To avoid this error in existing code, use `float` by itself. Doing this will not modify any behavior and is safe. If you specifically wanted the numpy scalar type, use `np.float64` here.\nThe aliases was originally deprecated in NumPy 1.20; for more details and guidance see the original release note at:\n    https://numpy.org/devdocs/release/1.20.0-notes.html#deprecations"
     ]
    }
   ],
   "source": [
    "numpy_array = np.frombuffer(raw, dtype=np.float)"
   ]
  },
  {
   "cell_type": "code",
   "execution_count": 27,
   "id": "8bce9f97-dfbd-4a14-8862-878376b47899",
   "metadata": {},
   "outputs": [
    {
     "ename": "TypeError",
     "evalue": "a bytes-like object is required, not 'list'",
     "output_type": "error",
     "traceback": [
      "\u001b[1;31m---------------------------------------------------------------------------\u001b[0m",
      "\u001b[1;31mTypeError\u001b[0m                                 Traceback (most recent call last)",
      "Cell \u001b[1;32mIn[27], line 1\u001b[0m\n\u001b[1;32m----> 1\u001b[0m numpy_array \u001b[38;5;241m=\u001b[39m \u001b[43mnp\u001b[49m\u001b[38;5;241;43m.\u001b[39;49m\u001b[43mfrombuffer\u001b[49m\u001b[43m(\u001b[49m\u001b[43mraw\u001b[49m\u001b[43m,\u001b[49m\u001b[43m \u001b[49m\u001b[43mdtype\u001b[49m\u001b[38;5;241;43m=\u001b[39;49m\u001b[38;5;28;43mfloat\u001b[39;49m\u001b[43m)\u001b[49m\n",
      "\u001b[1;31mTypeError\u001b[0m: a bytes-like object is required, not 'list'"
     ]
    }
   ],
   "source": [
    "numpy_array = np.frombuffer(raw, dtype=float)"
   ]
  },
  {
   "cell_type": "code",
   "execution_count": 28,
   "id": "cc913e19-d7ce-4f11-a36e-2e1a18385fd4",
   "metadata": {},
   "outputs": [
    {
     "ename": "NameError",
     "evalue": "name 'raws' is not defined",
     "output_type": "error",
     "traceback": [
      "\u001b[1;31m---------------------------------------------------------------------------\u001b[0m",
      "\u001b[1;31mNameError\u001b[0m                                 Traceback (most recent call last)",
      "Cell \u001b[1;32mIn[28], line 1\u001b[0m\n\u001b[1;32m----> 1\u001b[0m \u001b[38;5;28mtype\u001b[39m(\u001b[43mraws\u001b[49m)\n",
      "\u001b[1;31mNameError\u001b[0m: name 'raws' is not defined"
     ]
    }
   ],
   "source": [
    "type(raws)\n"
   ]
  },
  {
   "cell_type": "code",
   "execution_count": 29,
   "id": "6be1d793-d121-4f29-84bc-f2c6b8cb527e",
   "metadata": {},
   "outputs": [
    {
     "data": {
      "text/plain": [
       "list"
      ]
     },
     "execution_count": 29,
     "metadata": {},
     "output_type": "execute_result"
    }
   ],
   "source": [
    "type(raw)"
   ]
  },
  {
   "cell_type": "code",
   "execution_count": 30,
   "id": "a15cf1f4-fbfb-48d8-9424-a4aefcf58db1",
   "metadata": {},
   "outputs": [],
   "source": [
    "def read_one_file1(file_path):\n",
    "    \"\"\"\n",
    "    input:单个.mat文件路径\n",
    "    output:raw格式数据\n",
    "    \"\"\"\n",
    "    data = sio.loadmat(file_path) # 读取.mat文件\n",
    "    # 获取keys并转化为list，获取数据所在key\n",
    "    keys = list(data.keys())[3:] # 第一个key是__header__，第二个key是__version__，第三个key是__globals__,第四个key才是数据\n",
    "    # print(keys)\n",
    "    # 获取数据\n",
    "    raw_list = [] # 用于存储每个.mat文件中的15段数据\n",
    "    for i in range(len(keys)):\n",
    "        # 获取数据\n",
    "        stamp = data[keys[i]] # stamp是一个numpy数组\n",
    "        # print(stamp.shape)\n",
    "        # 创建info\n",
    "        info = mne.create_info(ch_names=ch_names, sfreq=sfreq, ch_types='eeg')\n",
    "        # 创建raw，取第5秒开始的数据\n",
    "        raw = mne.io.RawArray(stamp, info).crop(tmin=5) # crop()函数用于截取数据，raw是一个raw格式的数据\n",
    "        # 添加到raw_list\n",
    "        #raw_list.append(raw) #  为什么要添加到raw_list？ 不能直接返回raw吗？ \n",
    "    return raw"
   ]
  },
  {
   "cell_type": "code",
   "execution_count": 31,
   "id": "d86d7f06-bdc9-4e4b-94ca-e91cb8077936",
   "metadata": {},
   "outputs": [
    {
     "ename": "NameError",
     "evalue": "name 'ch_names' is not defined",
     "output_type": "error",
     "traceback": [
      "\u001b[1;31m---------------------------------------------------------------------------\u001b[0m",
      "\u001b[1;31mNameError\u001b[0m                                 Traceback (most recent call last)",
      "Cell \u001b[1;32mIn[31], line 1\u001b[0m\n\u001b[1;32m----> 1\u001b[0m data \u001b[38;5;241m=\u001b[39m \u001b[43mread_one_file1\u001b[49m\u001b[43m(\u001b[49m\u001b[43mfile_path\u001b[49m\u001b[43m)\u001b[49m\n\u001b[0;32m      2\u001b[0m data\u001b[38;5;241m.\u001b[39minfo\n",
      "Cell \u001b[1;32mIn[30], line 17\u001b[0m, in \u001b[0;36mread_one_file1\u001b[1;34m(file_path)\u001b[0m\n\u001b[0;32m     14\u001b[0m stamp \u001b[38;5;241m=\u001b[39m data[keys[i]] \u001b[38;5;66;03m# stamp是一个numpy数组\u001b[39;00m\n\u001b[0;32m     15\u001b[0m \u001b[38;5;66;03m# print(stamp.shape)\u001b[39;00m\n\u001b[0;32m     16\u001b[0m \u001b[38;5;66;03m# 创建info\u001b[39;00m\n\u001b[1;32m---> 17\u001b[0m info \u001b[38;5;241m=\u001b[39m mne\u001b[38;5;241m.\u001b[39mcreate_info(ch_names\u001b[38;5;241m=\u001b[39m\u001b[43mch_names\u001b[49m, sfreq\u001b[38;5;241m=\u001b[39msfreq, ch_types\u001b[38;5;241m=\u001b[39m\u001b[38;5;124m'\u001b[39m\u001b[38;5;124meeg\u001b[39m\u001b[38;5;124m'\u001b[39m)\n\u001b[0;32m     18\u001b[0m \u001b[38;5;66;03m# 创建raw，取第5秒开始的数据\u001b[39;00m\n\u001b[0;32m     19\u001b[0m raw \u001b[38;5;241m=\u001b[39m mne\u001b[38;5;241m.\u001b[39mio\u001b[38;5;241m.\u001b[39mRawArray(stamp, info)\u001b[38;5;241m.\u001b[39mcrop(tmin\u001b[38;5;241m=\u001b[39m\u001b[38;5;241m5\u001b[39m) \u001b[38;5;66;03m# crop()函数用于截取数据，raw是一个raw格式的数据\u001b[39;00m\n",
      "\u001b[1;31mNameError\u001b[0m: name 'ch_names' is not defined"
     ]
    }
   ],
   "source": [
    "data = read_one_file1(file_path)\n",
    "data.info"
   ]
  },
  {
   "cell_type": "code",
   "execution_count": 32,
   "id": "0a4b2dc4-551c-473f-9393-82669431ebc4",
   "metadata": {},
   "outputs": [],
   "source": [
    "ch_names = ['FP1', 'FPz', 'FP2', 'AF3', 'AF4', 'F7', 'F5', 'F3', 'F1',\n",
    "            'Fz', 'F2', 'F4', 'F6', 'F8', 'FT7', 'FC5', 'FC3', 'FC1',\n",
    "            'FCz', 'FC2', 'FC4', 'FC6', 'FT8', 'T7', 'C5', 'C3', 'C1',\n",
    "            'CZ', 'C2', 'C4', 'C6', 'T8', 'TP7', 'CP5', 'CP3', 'CP1',\n",
    "            'CPz', 'CP2', 'CP4', 'CP6', 'TP8', 'P7', 'P5', 'P3', 'P1',\n",
    "            'Pz', 'P2', 'P4', 'P6', 'P8', 'PO7', 'PO5', 'PO3', 'POz',\n",
    "            'PO4', 'PO6', 'PO8', 'CB1', 'O1', 'Oz', 'O2', 'CB2'] # 64个\n",
    "# 采样频率\n",
    "sfreq = 200\n",
    "# 每个.mat文件中的数据label\n",
    "basic_label = [1, 0, -1, -1, 0, 1, -1, 0, 1, 1, 0, -1, 0, 1, -1] # 15个"
   ]
  },
  {
   "cell_type": "code",
   "execution_count": 33,
   "id": "fff6c00e-fd63-4004-8bba-ce8d75280440",
   "metadata": {
    "scrolled": true
   },
   "outputs": [
    {
     "name": "stdout",
     "output_type": "stream",
     "text": [
      "Creating RawArray with float64 data, n_channels=62, n_times=47001\n",
      "    Range : 0 ... 47000 =      0.000 ...   235.000 secs\n",
      "Ready.\n",
      "Creating RawArray with float64 data, n_channels=62, n_times=46601\n",
      "    Range : 0 ... 46600 =      0.000 ...   233.000 secs\n",
      "Ready.\n",
      "Creating RawArray with float64 data, n_channels=62, n_times=41201\n",
      "    Range : 0 ... 41200 =      0.000 ...   206.000 secs\n",
      "Ready.\n",
      "Creating RawArray with float64 data, n_channels=62, n_times=47601\n",
      "    Range : 0 ... 47600 =      0.000 ...   238.000 secs\n",
      "Ready.\n",
      "Creating RawArray with float64 data, n_channels=62, n_times=37001\n",
      "    Range : 0 ... 37000 =      0.000 ...   185.000 secs\n",
      "Ready.\n",
      "Creating RawArray with float64 data, n_channels=62, n_times=39001\n",
      "    Range : 0 ... 39000 =      0.000 ...   195.000 secs\n",
      "Ready.\n",
      "Creating RawArray with float64 data, n_channels=62, n_times=47401\n",
      "    Range : 0 ... 47400 =      0.000 ...   237.000 secs\n",
      "Ready.\n",
      "Creating RawArray with float64 data, n_channels=62, n_times=43201\n",
      "    Range : 0 ... 43200 =      0.000 ...   216.000 secs\n",
      "Ready.\n",
      "Creating RawArray with float64 data, n_channels=62, n_times=53001\n",
      "    Range : 0 ... 53000 =      0.000 ...   265.000 secs\n",
      "Ready.\n",
      "Creating RawArray with float64 data, n_channels=62, n_times=47401\n",
      "    Range : 0 ... 47400 =      0.000 ...   237.000 secs\n",
      "Ready.\n",
      "Creating RawArray with float64 data, n_channels=62, n_times=47001\n",
      "    Range : 0 ... 47000 =      0.000 ...   235.000 secs\n",
      "Ready.\n",
      "Creating RawArray with float64 data, n_channels=62, n_times=46601\n",
      "    Range : 0 ... 46600 =      0.000 ...   233.000 secs\n",
      "Ready.\n",
      "Creating RawArray with float64 data, n_channels=62, n_times=47001\n",
      "    Range : 0 ... 47000 =      0.000 ...   235.000 secs\n",
      "Ready.\n",
      "Creating RawArray with float64 data, n_channels=62, n_times=47601\n",
      "    Range : 0 ... 47600 =      0.000 ...   238.000 secs\n",
      "Ready.\n",
      "Creating RawArray with float64 data, n_channels=62, n_times=41201\n",
      "    Range : 0 ... 41200 =      0.000 ...   206.000 secs\n",
      "Ready.\n"
     ]
    },
    {
     "data": {
      "text/html": [
       "<details open>\n",
       "    <summary><strong>General</strong></summary>\n",
       "    <table class=\"table table-hover table-striped table-sm table-responsive small\">\n",
       "        <tr>\n",
       "            <th>Measurement date</th>\n",
       "            \n",
       "            <td>Unknown</td>\n",
       "            \n",
       "        </tr>\n",
       "        <tr>\n",
       "            <th>Experimenter</th>\n",
       "            \n",
       "            <td>Unknown</td>\n",
       "            \n",
       "        </tr>\n",
       "        <tr>\n",
       "            <th>Participant</th>\n",
       "            \n",
       "            <td>Unknown</td>\n",
       "            \n",
       "        </tr>\n",
       "    </table>\n",
       "    </details>\n",
       "    <details open>\n",
       "        <summary><strong>Channels</strong></summary>\n",
       "        <table class=\"table table-hover table-striped table-sm table-responsive small\">\n",
       "            <tr>\n",
       "                <th>Digitized points</th>\n",
       "                \n",
       "                <td>Not available</td>\n",
       "                \n",
       "            </tr>\n",
       "            <tr>\n",
       "                <th>Good channels</th>\n",
       "                <td>62 EEG</td>\n",
       "            </tr>\n",
       "            <tr>\n",
       "                <th>Bad channels</th>\n",
       "                <td>None</td>\n",
       "            </tr>\n",
       "            <tr>\n",
       "                <th>EOG channels</th>\n",
       "                <td>Not available</td>\n",
       "            </tr>\n",
       "            <tr>\n",
       "                <th>ECG channels</th>\n",
       "                <td>Not available</td>\n",
       "            </tr>\n",
       "        </table>\n",
       "        </details>\n",
       "        <details open>\n",
       "            <summary><strong>Data</strong></summary>\n",
       "            <table class=\"table table-hover table-striped table-sm table-responsive small\">\n",
       "                \n",
       "                <tr>\n",
       "                    <th>Sampling frequency</th>\n",
       "                    <td>200.00 Hz</td>\n",
       "                </tr>\n",
       "                \n",
       "                \n",
       "                <tr>\n",
       "                    <th>Highpass</th>\n",
       "                    <td>0.00 Hz</td>\n",
       "                </tr>\n",
       "                \n",
       "                \n",
       "                <tr>\n",
       "                    <th>Lowpass</th>\n",
       "                    <td>100.00 Hz</td>\n",
       "                </tr>\n",
       "                \n",
       "                \n",
       "                \n",
       "                \n",
       "            </table>\n",
       "            </details>"
      ],
      "text/plain": [
       "<Info | 7 non-empty values\n",
       " bads: []\n",
       " ch_names: FP1, FPz, FP2, AF3, AF4, F7, F5, F3, F1, Fz, F2, F4, F6, F8, ...\n",
       " chs: 62 EEG\n",
       " custom_ref_applied: False\n",
       " highpass: 0.0 Hz\n",
       " lowpass: 100.0 Hz\n",
       " meas_date: unspecified\n",
       " nchan: 62\n",
       " projs: []\n",
       " sfreq: 200.0 Hz\n",
       ">"
      ]
     },
     "execution_count": 33,
     "metadata": {},
     "output_type": "execute_result"
    }
   ],
   "source": [
    "data = read_one_file1(file_path)\n",
    "data.info"
   ]
  },
  {
   "cell_type": "code",
   "execution_count": 34,
   "id": "f11b5d4a-2a40-44c1-8d17-394884e0c3e8",
   "metadata": {},
   "outputs": [
    {
     "data": {
      "text/html": [
       "<details open>\n",
       "    <summary><strong>General</strong></summary>\n",
       "    <table class=\"table table-hover table-striped table-sm table-responsive small\">\n",
       "        <tr>\n",
       "            <th>Measurement date</th>\n",
       "            \n",
       "            <td>Unknown</td>\n",
       "            \n",
       "        </tr>\n",
       "        <tr>\n",
       "            <th>Experimenter</th>\n",
       "            \n",
       "            <td>Unknown</td>\n",
       "            \n",
       "        </tr>\n",
       "        <tr>\n",
       "            <th>Participant</th>\n",
       "            \n",
       "            <td>Unknown</td>\n",
       "            \n",
       "        </tr>\n",
       "    </table>\n",
       "    </details>\n",
       "    <details open>\n",
       "        <summary><strong>Channels</strong></summary>\n",
       "        <table class=\"table table-hover table-striped table-sm table-responsive small\">\n",
       "            <tr>\n",
       "                <th>Digitized points</th>\n",
       "                \n",
       "                <td>Not available</td>\n",
       "                \n",
       "            </tr>\n",
       "            <tr>\n",
       "                <th>Good channels</th>\n",
       "                <td>62 EEG</td>\n",
       "            </tr>\n",
       "            <tr>\n",
       "                <th>Bad channels</th>\n",
       "                <td>None</td>\n",
       "            </tr>\n",
       "            <tr>\n",
       "                <th>EOG channels</th>\n",
       "                <td>Not available</td>\n",
       "            </tr>\n",
       "            <tr>\n",
       "                <th>ECG channels</th>\n",
       "                <td>Not available</td>\n",
       "            </tr>\n",
       "        </table>\n",
       "        </details>\n",
       "        <details open>\n",
       "            <summary><strong>Data</strong></summary>\n",
       "            <table class=\"table table-hover table-striped table-sm table-responsive small\">\n",
       "                \n",
       "                <tr>\n",
       "                    <th>Sampling frequency</th>\n",
       "                    <td>200.00 Hz</td>\n",
       "                </tr>\n",
       "                \n",
       "                \n",
       "                <tr>\n",
       "                    <th>Highpass</th>\n",
       "                    <td>0.00 Hz</td>\n",
       "                </tr>\n",
       "                \n",
       "                \n",
       "                <tr>\n",
       "                    <th>Lowpass</th>\n",
       "                    <td>100.00 Hz</td>\n",
       "                </tr>\n",
       "                \n",
       "                \n",
       "                \n",
       "                \n",
       "                <tr>\n",
       "                    <th>Duration</th>\n",
       "                    <td>00:03:21 (HH:MM:SS)</td>\n",
       "                </tr>\n",
       "                \n",
       "            </table>\n",
       "            </details>"
      ],
      "text/plain": [
       "<RawArray | 62 x 40201 (201.0 s), ~19.1 MB, data loaded>"
      ]
     },
     "execution_count": 34,
     "metadata": {},
     "output_type": "execute_result"
    }
   ],
   "source": [
    "data\n"
   ]
  },
  {
   "cell_type": "code",
   "execution_count": 35,
   "id": "f890a4e5-b7b2-4121-98d4-0ea8923db92c",
   "metadata": {},
   "outputs": [
    {
     "name": "stdout",
     "output_type": "stream",
     "text": [
      "<RawArray | 62 x 40201 (201.0 s), ~19.1 MB, data loaded>\n"
     ]
    }
   ],
   "source": [
    "print(data)"
   ]
  },
  {
   "cell_type": "code",
   "execution_count": 36,
   "id": "48b55ae3-d86b-400a-a462-290bd5da0865",
   "metadata": {},
   "outputs": [
    {
     "name": "stdout",
     "output_type": "stream",
     "text": [
      "Dimension 0 is not matching. Target shape: 15, Data shape: <RawArray | 62 x 46001 (230.0 s), ~21.8 MB, data loaded>\n",
      "Dimension 1 is not matching. Target shape: 62, Data shape: <RawArray | 62 x 45601 (228.0 s), ~21.6 MB, data loaded>\n",
      "Dimension 2 is not matching. Target shape: 2, Data shape: <RawArray | 62 x 40201 (201.0 s), ~19.1 MB, data loaded>\n"
     ]
    }
   ],
   "source": [
    "target_shape = (15, 62, 2)\n",
    "\n",
    "for i in range(len(target_shape)):\n",
    "    if raw[i] != target_shape[i]:\n",
    "        print(f\"Dimension {i} is not matching. Target shape: {target_shape[i]}, Data shape: {raw[i]}\")"
   ]
  },
  {
   "cell_type": "code",
   "execution_count": 37,
   "id": "f8eb6614-2d2e-4660-b7d2-b8c718e501a1",
   "metadata": {},
   "outputs": [
    {
     "name": "stdout",
     "output_type": "stream",
     "text": [
      "Vector 0 does not match. Target shape: 15, Data shape: 46001\n",
      "Vector 1 does not match. Target shape: 62, Data shape: 45601\n",
      "Vector 2 does not match. Target shape: 2, Data shape: 40201\n"
     ]
    },
    {
     "ename": "IndexError",
     "evalue": "tuple index out of range",
     "output_type": "error",
     "traceback": [
      "\u001b[1;31m---------------------------------------------------------------------------\u001b[0m",
      "\u001b[1;31mIndexError\u001b[0m                                Traceback (most recent call last)",
      "Cell \u001b[1;32mIn[37], line 4\u001b[0m\n\u001b[0;32m      1\u001b[0m target_shape \u001b[38;5;241m=\u001b[39m (\u001b[38;5;241m15\u001b[39m, \u001b[38;5;241m62\u001b[39m, \u001b[38;5;241m2\u001b[39m)\n\u001b[0;32m      3\u001b[0m \u001b[38;5;28;01mfor\u001b[39;00m idx, vector \u001b[38;5;129;01min\u001b[39;00m \u001b[38;5;28menumerate\u001b[39m(raw):\n\u001b[1;32m----> 4\u001b[0m     \u001b[38;5;28;01mif\u001b[39;00m \u001b[38;5;28mlen\u001b[39m(vector) \u001b[38;5;241m!=\u001b[39m \u001b[43mtarget_shape\u001b[49m\u001b[43m[\u001b[49m\u001b[43midx\u001b[49m\u001b[43m]\u001b[49m:\n\u001b[0;32m      5\u001b[0m         \u001b[38;5;28mprint\u001b[39m(\u001b[38;5;124mf\u001b[39m\u001b[38;5;124m\"\u001b[39m\u001b[38;5;124mVector \u001b[39m\u001b[38;5;132;01m{\u001b[39;00midx\u001b[38;5;132;01m}\u001b[39;00m\u001b[38;5;124m does not match. Target shape: \u001b[39m\u001b[38;5;132;01m{\u001b[39;00mtarget_shape[idx]\u001b[38;5;132;01m}\u001b[39;00m\u001b[38;5;124m, Data shape: \u001b[39m\u001b[38;5;132;01m{\u001b[39;00m\u001b[38;5;28mlen\u001b[39m(vector)\u001b[38;5;132;01m}\u001b[39;00m\u001b[38;5;124m\"\u001b[39m)\n",
      "\u001b[1;31mIndexError\u001b[0m: tuple index out of range"
     ]
    }
   ],
   "source": [
    "target_shape = (15, 62, 2)\n",
    "\n",
    "for idx, vector in enumerate(raw):\n",
    "    if len(vector) != target_shape[idx]:\n",
    "        print(f\"Vector {idx} does not match. Target shape: {target_shape[idx]}, Data shape: {len(vector)}\")\n"
   ]
  },
  {
   "cell_type": "code",
   "execution_count": 38,
   "id": "bd8be65d-b89c-4477-9b5b-dcc00450d58f",
   "metadata": {},
   "outputs": [
    {
     "ename": "AttributeError",
     "evalue": "'list' object has no attribute 'shape'",
     "output_type": "error",
     "traceback": [
      "\u001b[1;31m---------------------------------------------------------------------------\u001b[0m",
      "\u001b[1;31mAttributeError\u001b[0m                            Traceback (most recent call last)",
      "Cell \u001b[1;32mIn[38], line 1\u001b[0m\n\u001b[1;32m----> 1\u001b[0m \u001b[43mraw\u001b[49m\u001b[38;5;241;43m.\u001b[39;49m\u001b[43mshape\u001b[49m()\n",
      "\u001b[1;31mAttributeError\u001b[0m: 'list' object has no attribute 'shape'"
     ]
    }
   ],
   "source": [
    "raw.shape()"
   ]
  },
  {
   "cell_type": "code",
   "execution_count": 39,
   "id": "8ad909aa-885e-4d7a-8163-fea2e3e53774",
   "metadata": {},
   "outputs": [
    {
     "name": "stdout",
     "output_type": "stream",
     "text": [
      "Creating RawArray with float64 data, n_channels=62, n_times=47001\n",
      "    Range : 0 ... 47000 =      0.000 ...   235.000 secs\n",
      "Ready.\n",
      "Creating RawArray with float64 data, n_channels=62, n_times=46601\n",
      "    Range : 0 ... 46600 =      0.000 ...   233.000 secs\n",
      "Ready.\n",
      "Creating RawArray with float64 data, n_channels=62, n_times=41201\n",
      "    Range : 0 ... 41200 =      0.000 ...   206.000 secs\n",
      "Ready.\n",
      "Creating RawArray with float64 data, n_channels=62, n_times=47601\n",
      "    Range : 0 ... 47600 =      0.000 ...   238.000 secs\n",
      "Ready.\n",
      "Creating RawArray with float64 data, n_channels=62, n_times=37001\n",
      "    Range : 0 ... 37000 =      0.000 ...   185.000 secs\n",
      "Ready.\n",
      "Creating RawArray with float64 data, n_channels=62, n_times=39001\n",
      "    Range : 0 ... 39000 =      0.000 ...   195.000 secs\n",
      "Ready.\n",
      "Creating RawArray with float64 data, n_channels=62, n_times=47401\n",
      "    Range : 0 ... 47400 =      0.000 ...   237.000 secs\n",
      "Ready.\n",
      "Creating RawArray with float64 data, n_channels=62, n_times=43201\n",
      "    Range : 0 ... 43200 =      0.000 ...   216.000 secs\n",
      "Ready.\n",
      "Creating RawArray with float64 data, n_channels=62, n_times=53001\n",
      "    Range : 0 ... 53000 =      0.000 ...   265.000 secs\n",
      "Ready.\n",
      "Creating RawArray with float64 data, n_channels=62, n_times=47401\n",
      "    Range : 0 ... 47400 =      0.000 ...   237.000 secs\n",
      "Ready.\n",
      "Creating RawArray with float64 data, n_channels=62, n_times=47001\n",
      "    Range : 0 ... 47000 =      0.000 ...   235.000 secs\n",
      "Ready.\n",
      "Creating RawArray with float64 data, n_channels=62, n_times=46601\n",
      "    Range : 0 ... 46600 =      0.000 ...   233.000 secs\n",
      "Ready.\n",
      "Creating RawArray with float64 data, n_channels=62, n_times=47001\n",
      "    Range : 0 ... 47000 =      0.000 ...   235.000 secs\n",
      "Ready.\n",
      "Creating RawArray with float64 data, n_channels=62, n_times=47601\n",
      "    Range : 0 ... 47600 =      0.000 ...   238.000 secs\n",
      "Ready.\n",
      "Creating RawArray with float64 data, n_channels=62, n_times=41201\n",
      "    Range : 0 ... 41200 =      0.000 ...   206.000 secs\n",
      "Ready.\n"
     ]
    }
   ],
   "source": [
    "raw=read_one_file(file_path)"
   ]
  },
  {
   "cell_type": "code",
   "execution_count": 40,
   "id": "7467adbf-bd58-4fe6-a3c7-c919f3aae869",
   "metadata": {},
   "outputs": [],
   "source": [
    "def get_list_dimension(lst):\n",
    "    if not isinstance(lst, list):\n",
    "        return 0  # 不是列表，认为是0维\n",
    "    if not lst:  # 空列表，认为是1维\n",
    "        return 1\n",
    "    return 1 + get_list_dimension(lst[0])  # 递归计算维度\n",
    "\n"
   ]
  },
  {
   "cell_type": "code",
   "execution_count": 41,
   "id": "e7bce105-2289-4d7b-96f7-02e7b7d039ba",
   "metadata": {},
   "outputs": [
    {
     "data": {
      "text/plain": [
       "1"
      ]
     },
     "execution_count": 41,
     "metadata": {},
     "output_type": "execute_result"
    }
   ],
   "source": [
    "get_list_dimension(raw)"
   ]
  },
  {
   "cell_type": "code",
   "execution_count": 42,
   "id": "226854d9-11b8-4f85-9a58-f02e964e3fd7",
   "metadata": {},
   "outputs": [
    {
     "name": "stdout",
     "output_type": "stream",
     "text": [
      "The list is 1 dimensional.\n"
     ]
    }
   ],
   "source": [
    "def get_list_dimension1(lst):\n",
    "    dim = 0\n",
    "    while isinstance(lst, list):\n",
    "        if not lst:  # 空列表，认为是1维\n",
    "            return 1\n",
    "        dim += 1\n",
    "        lst = lst[0]\n",
    "    return dim\n",
    "\n",
    "# 举例：\n",
    "my_list = [1, 2, [3, 4], [5, [6, 7]]]\n",
    "dimension = get_list_dimension(my_list)\n",
    "print(f\"The list is {dimension} dimensional.\")\n"
   ]
  },
  {
   "cell_type": "code",
   "execution_count": 43,
   "id": "9dfbb676-1085-4e58-abb8-88ac4dc85cc3",
   "metadata": {},
   "outputs": [
    {
     "name": "stdout",
     "output_type": "stream",
     "text": [
      "The list is 1 dimensional.\n"
     ]
    }
   ],
   "source": [
    "def get_list_dimension(lst):\n",
    "    dim = 0\n",
    "    while isinstance(lst, list):\n",
    "        if not lst:  # 如果是空列表，认为是1维\n",
    "            return 1\n",
    "        dim += 1\n",
    "        lst = lst[0]\n",
    "    return dim\n",
    "\n",
    "# 示例：\n",
    "my_list = [1, 2, [3, 4], [5, [6, 7]]]\n",
    "dimension = get_list_dimension(my_list)\n",
    "print(f\"The list is {dimension} dimensional.\")\n"
   ]
  },
  {
   "cell_type": "code",
   "execution_count": 44,
   "id": "1fa539dc-6649-4a26-b5d3-96b426ed1eca",
   "metadata": {},
   "outputs": [
    {
     "name": "stdout",
     "output_type": "stream",
     "text": [
      "The list is 1 dimensional.\n"
     ]
    }
   ],
   "source": [
    "def get_list_dimension(lst):\n",
    "    if not isinstance(lst, list):\n",
    "        return 0  # 如果不是列表，认为是0维\n",
    "    if not lst:  # 如果是空列表，认为是1维\n",
    "        return 1\n",
    "    # 递归计算维度\n",
    "    return 1 + get_list_dimension(lst[1])\n",
    "\n",
    "# 示例：\n",
    "my_list = [1, 2, [3, 4], [5, [6, 7]]]\n",
    "dimension = get_list_dimension(my_list)\n",
    "print(f\"The list is {dimension} dimensional.\")"
   ]
  },
  {
   "cell_type": "code",
   "execution_count": 45,
   "id": "ac76d0aa-f011-4cf2-8463-8d99fb0a023e",
   "metadata": {},
   "outputs": [
    {
     "name": "stdout",
     "output_type": "stream",
     "text": [
      "The list is 1 dimensional.\n"
     ]
    }
   ],
   "source": [
    "def get_list_dimension(lst):\n",
    "    if not isinstance(lst, list):\n",
    "        return 0  # 如果不是列表，认为是0维\n",
    "    if not lst:  # 如果是空列表，认为是1维\n",
    "        return 1\n",
    "    # 递归计算维度\n",
    "    return 1 + get_list_dimension(lst[1])\n",
    "\n",
    "# 示例：\n",
    "my_list = [1, 2, [3, 4], [5, [6, 7]]]\n",
    "dimension = get_list_dimension(my_list)\n",
    "print(f\"The list is {dimension} dimensional.\")"
   ]
  },
  {
   "cell_type": "code",
   "execution_count": 46,
   "id": "0b49d08d-a121-4d66-bc2a-3e73bdb9671d",
   "metadata": {},
   "outputs": [
    {
     "name": "stdout",
     "output_type": "stream",
     "text": [
      "The list is 1 dimensional.\n"
     ]
    }
   ],
   "source": [
    "def get_list_dimension(lst):\n",
    "    if not isinstance(lst, list):\n",
    "        return 0  # 如果不是列表，认为是0维\n",
    "    if not lst:  # 如果是空列表，认为是1维\n",
    "        return 1\n",
    "    # 获取列表中第一个元素的维度\n",
    "    inner_dim = get_list_dimension(lst[0])\n",
    "    # 列表的维度等于第一个元素的维度加1\n",
    "    return 1 + inner_dim\n",
    "\n",
    "# 示例：\n",
    "my_list = [1, 2, [3, 4], [5, [6, 7]]]\n",
    "dimension = get_list_dimension(my_list)\n",
    "print(f\"The list is {dimension} dimensional.\")"
   ]
  },
  {
   "cell_type": "code",
   "execution_count": null,
   "id": "83696398-f8fd-4be4-b6bc-cde870d27991",
   "metadata": {},
   "outputs": [],
   "source": []
  }
 ],
 "metadata": {
  "kernelspec": {
   "display_name": "Python 3 (ipykernel)",
   "language": "python",
   "name": "python3"
  },
  "language_info": {
   "codemirror_mode": {
    "name": "ipython",
    "version": 3
   },
   "file_extension": ".py",
   "mimetype": "text/x-python",
   "name": "python",
   "nbconvert_exporter": "python",
   "pygments_lexer": "ipython3",
   "version": "3.10.3"
  }
 },
 "nbformat": 4,
 "nbformat_minor": 5
}
