{
 "cells": [
  {
   "cell_type": "code",
   "execution_count": 1,
   "id": "80b83eac-5980-4fb9-822e-9d2b215c0ee0",
   "metadata": {},
   "outputs": [],
   "source": [
    "from mne.time_frequency import psd_array_multitaper\n",
    "from mne_connectivity import spectral_connectivity_epochs\n",
    "import numpy as np\n",
    "# 引入前文中构建的文件读取函数\n",
    "from read_file import read_all_files\n",
    "\n",
    "\n",
    "def frequency_spectrum(raws):\n",
    "    # 提取EEG数据在五个频段的能量特征\n",
    "    # delta(0.5-4Hz) theta(4-8Hz) alpha(8-13Hz) beta(13-30Hz) gamma(30-100Hz)\n",
    "    # 特定频带\n",
    "    FREQ_BANDS = {\"delta\": [0.5, 4.5],\n",
    "                  \"theta\": [4.5, 8.5],\n",
    "                  \"alpha\": [8.5, 11.5],\n",
    "                  \"sigma\": [11.5, 15.5],\n",
    "                  \"beta\": [15.5, 30]}\n",
    "    # 特征矩阵\n",
    "    feature_matrix = [] # 每个元素是一个特征向量\n",
    "    # 遍历每个raw\n",
    "    for raw in raws:\n",
    "        # 生成频谱特征向量\n",
    "        feature_vector = []\n",
    "        # 遍历每个频段\n",
    "        for band in FREQ_BANDS:\n",
    "            # 提取每个频段的数据，不打印信息\n",
    "            raw_band = raw.copy().filter(l_freq=FREQ_BANDS[band][0], h_freq=FREQ_BANDS[band][1], verbose=False)\n",
    "            # 计算能量\n",
    "            power = np.sum(raw_band.get_data() ** 2, axis=1) / raw_band.n_times # axis=1表示按行求和\n",
    "            # 添加到特征向量\n",
    "            feature_vector.extend(power)\n",
    "        # 添加到特征矩阵\n",
    "        feature_matrix.append(feature_vector)\n",
    "    # 返回特征矩阵\n",
    "    print(\"频谱特征矩阵的shape为：{}\".format(np.array(feature_matrix).shape))\n",
    "    print(\"频谱特征矩阵内容为：{}\".format(np.array(feature_matrix)))\n",
    "    return np.array(feature_matrix, dtype=float)\n",
    "\n",
    "\n",
    "import numpy as np\n",
    "import mne\n",
    "\n",
    "\n",
    "def power_spectrum(raws):\n",
    "    print(\"功率谱密度特征提取开始...\")\n",
    "    # 计算每个频段的功率谱密度\n",
    "    # 特定频带\n",
    "    FREQ_BANDS = {\"delta\": [0.5, 4.5],\n",
    "                  \"theta\": [4.5, 8.5],\n",
    "                  \"alpha\": [8.5, 11.5],\n",
    "                  \"sigma\": [11.5, 15.5],\n",
    "                  \"beta\": [15.5, 30]}\n",
    "    # 特征矩阵\n",
    "    feature_matrix = []\n",
    "    # 遍历每个raw\n",
    "    for raw in raws: # raws是一个列表，每个元素是一个raw对象\n",
    "        # 生成频谱特征向量\n",
    "        feature_vector = []\n",
    "        # 遍历每个频段\n",
    "        for band in FREQ_BANDS:\n",
    "            # 计算功率谱密度\n",
    "            power = raw.compute_psd(picks='all', method='welch', fmin=FREQ_BANDS[band][0],\n",
    "                                           fmax=FREQ_BANDS[band][1], verbose=False)\n",
    "            # print(power.shape)\n",
    "            # 添加到特征向量，在第二个维度方向扩展\n",
    "            for i in range(power.shape[0]):\n",
    "                feature_vector.extend(power[i])\n",
    "        # 添加到特征矩阵\n",
    "        # print(len(feature_vector))\n",
    "        feature_matrix.append(feature_vector)\n",
    "    # 将特征矩阵转换为numpy数组\n",
    "    feature_matrix = np.array(feature_matrix, dtype=object)\n",
    "    # 返回特征矩阵\n",
    "    print(\"功率谱密度特征矩阵的shape为：{}\".format(feature_matrix.shape))\n",
    "    # print(\"功率谱密度特征矩阵内容为：{}\".format(np.array(feature_matrix)))\n",
    "    print(\"功率谱密度特征提取结束\")\n",
    "    return feature_matrix\n",
    "\n",
    "\n",
    "def spectral_connectivity(raws):\n",
    "    print(\"相干性特征提取开始...\")\n",
    "    # 计算EEG数据的相干性特征\n",
    "    # 特征矩阵\n",
    "    feature_matrix = []\n",
    "    # 遍历每个raw\n",
    "    for raw in raws:\n",
    "        # 生成events, 2s为一个event，重叠0.2s\n",
    "        events = mne.make_fixed_length_events(raw, duration=2.0, overlap=0.2)\n",
    "        # print('event.shape: ', events.shape)\n",
    "        # 生成epochs\n",
    "        epochs = mne.Epochs(raw, events, tmin=0, tmax=2.0, baseline=None, verbose=False)\n",
    "        # print('epochs.shape: ', epochs.get_data().shape)\n",
    "        # 计算相干性矩阵\n",
    "        con = spectral_connectivity_epochs(epochs, method='coh', mode='multitaper', verbose=False)\n",
    "        # print('con info: ', con)\n",
    "        feature_matrix.append(con.get_data())\n",
    "    # 将特征矩阵转换为numpy数组\n",
    "    feature_matrix = np.array(feature_matrix, dtype=float)\n",
    "    # 返回特征矩阵\n",
    "    print(\"相干性特征矩阵的shape为：{}\".format(feature_matrix.shape))\n",
    "    print(\"相干性特征矩阵内容为：{}\".format(np.array(feature_matrix)))\n",
    "    print(\"相干性特征提取结束\")\n",
    "    return feature_matrix\n",
    "\n",
    "\n",
    "\n",
    "\n",
    "# 时域特征提取\n",
    "\n",
    "def temporal_feature(raws):\n",
    "    # 提取EEG数据的时域特征\n",
    "    print(\"时域特征提取开始...\")\n",
    "    # 特征矩阵\n",
    "    feature_matrix = []\n",
    "    # 遍历每个raw\n",
    "    for raw in raws:\n",
    "        # 生成时域特征向量\n",
    "        feature_vector = []\n",
    "        # 计算EEG数据的时域特征\n",
    "        # 1.均值\n",
    "        mean = raw.get_data().mean(axis=1)\n",
    "        # 2.方差\n",
    "        var = raw.get_data().var(axis=1)\n",
    "        # 3.标准差\n",
    "        std = raw.get_data().std(axis=1)\n",
    "        # 4.最大值\n",
    "        max = raw.get_data().max(axis=1)\n",
    "        # 5.最小值\n",
    "        min = raw.get_data().min(axis=1)\n",
    "        # 6.峰峰值\n",
    "        p_p = max - min\n",
    "        # 7.斜率\n",
    "        slope = np.diff(raw.get_data(), axis=1) # 沿着第二个维度计算差分\n",
    "        # 8.峭度\n",
    "        kurtosis = np.mean((raw.get_data() - mean[:, None]) ** 4, axis=1) / var ** 2 - 3\n",
    "        # 9.偏度\n",
    "        skewness = np.mean((raw.get_data() - mean[:, None]) ** 3, axis=1) / var ** (3 / 2)\n",
    "        # 10.能量\n",
    "        power = np.sum(raw.get_data() ** 2, axis=1) / raw.n_times\n",
    "        # 11.方根幅值\n",
    "        rms = np.sqrt(np.mean(raw.get_data() ** 2, axis=1))\n",
    "        # 12.脑电活动时域特征向量\n",
    "        feature_vector.extend(mean) # extend()函数用于在列表末尾一次性追加另一个序列中的多个值\n",
    "        feature_vector.extend(var)\n",
    "        feature_vector.extend(std)\n",
    "        feature_vector.extend(max)\n",
    "        feature_vector.extend(min)\n",
    "        feature_vector.extend(p_p)\n",
    "        feature_vector.extend(slope)\n",
    "        feature_vector.extend(kurtosis)\n",
    "        feature_vector.extend(skewness)\n",
    "        feature_vector.extend(power)\n",
    "        feature_vector.extend(rms)\n",
    "        # 添加到特征矩阵\n",
    "        feature_matrix.append(feature_vector)\n",
    "    # 将特征矩阵转换为numpy数组\n",
    "    feature_matrix = np.array(feature_matrix, dtype=object) # dtype=object 保证每个元素的类型都是list\n",
    "    # 返回特征矩阵\n",
    "    print(\"时域特征矩阵的shape为：{}\".format(feature_matrix.shape))\n",
    "    print(\"时域特征矩阵内容为：{}\".format(np.array(feature_matrix)))\n",
    "    return feature_matrix"
   ]
  },
  {
   "cell_type": "code",
   "execution_count": 2,
   "id": "3f6ff762-a242-4c78-93a3-5f6dc0d5d4b8",
   "metadata": {},
   "outputs": [
    {
     "name": "stdout",
     "output_type": "stream",
     "text": [
      "read_all_files start...\n",
      "Creating RawArray with float64 data, n_channels=62, n_times=47001\n",
      "    Range : 0 ... 47000 =      0.000 ...   235.000 secs\n",
      "Ready.\n",
      "Creating RawArray with float64 data, n_channels=62, n_times=46601\n",
      "    Range : 0 ... 46600 =      0.000 ...   233.000 secs\n",
      "Ready.\n",
      "Creating RawArray with float64 data, n_channels=62, n_times=41201\n",
      "    Range : 0 ... 41200 =      0.000 ...   206.000 secs\n",
      "Ready.\n",
      "Creating RawArray with float64 data, n_channels=62, n_times=47601\n",
      "    Range : 0 ... 47600 =      0.000 ...   238.000 secs\n",
      "Ready.\n",
      "Creating RawArray with float64 data, n_channels=62, n_times=37001\n",
      "    Range : 0 ... 37000 =      0.000 ...   185.000 secs\n",
      "Ready.\n",
      "Creating RawArray with float64 data, n_channels=62, n_times=39001\n",
      "    Range : 0 ... 39000 =      0.000 ...   195.000 secs\n",
      "Ready.\n",
      "Creating RawArray with float64 data, n_channels=62, n_times=47401\n",
      "    Range : 0 ... 47400 =      0.000 ...   237.000 secs\n",
      "Ready.\n",
      "Creating RawArray with float64 data, n_channels=62, n_times=43201\n",
      "    Range : 0 ... 43200 =      0.000 ...   216.000 secs\n",
      "Ready.\n",
      "Creating RawArray with float64 data, n_channels=62, n_times=53001\n",
      "    Range : 0 ... 53000 =      0.000 ...   265.000 secs\n",
      "Ready.\n",
      "Creating RawArray with float64 data, n_channels=62, n_times=47401\n",
      "    Range : 0 ... 47400 =      0.000 ...   237.000 secs\n",
      "Ready.\n",
      "Creating RawArray with float64 data, n_channels=62, n_times=47001\n",
      "    Range : 0 ... 47000 =      0.000 ...   235.000 secs\n",
      "Ready.\n",
      "Creating RawArray with float64 data, n_channels=62, n_times=46601\n",
      "    Range : 0 ... 46600 =      0.000 ...   233.000 secs\n",
      "Ready.\n",
      "Creating RawArray with float64 data, n_channels=62, n_times=47001\n",
      "    Range : 0 ... 47000 =      0.000 ...   235.000 secs\n",
      "Ready.\n",
      "Creating RawArray with float64 data, n_channels=62, n_times=47601\n",
      "    Range : 0 ... 47600 =      0.000 ...   238.000 secs\n",
      "Ready.\n",
      "Creating RawArray with float64 data, n_channels=62, n_times=41201\n",
      "    Range : 0 ... 41200 =      0.000 ...   206.000 secs\n",
      "Ready.\n",
      "共读取了1个文件\n",
      "共有15段数据\n",
      "read ended...\n",
      "时域特征提取开始...\n",
      "时域特征矩阵的shape为：(15, 682)\n",
      "时域特征矩阵内容为：[[-0.1636481213052906 -0.5556224198479338 -0.5284931780926515 ...\n",
      "  25.99057281020803 24.84857998841949 25.4554816348889]\n",
      " [0.08424722647207358 0.46841361193758246 0.14006326874134659 ...\n",
      "  22.15875173714819 20.453904842004828 21.058460106659588]\n",
      " [-0.061241507734820275 -0.6701241339953046 0.3363768208285166 ...\n",
      "  41.69938702667833 45.558640821303875 57.788444913868865]\n",
      " ...\n",
      " [0.14780917915763347 -0.08482398791110106 -0.017179369638801692 ...\n",
      "  18.532426832455517 19.843687867740478 20.555887056375028]\n",
      " [-0.17424263756371514 -0.3003286974120198 -0.25574832164060174 ...\n",
      "  27.030963309983132 24.737281486009888 27.506048881723785]\n",
      " [-0.18775959797265626 -0.08260597948654265 -0.25344836154697764 ...\n",
      "  40.54572177661289 68.85947151501183 93.65250526707523]]\n"
     ]
    }
   ],
   "source": [
    "raws, label = read_all_files(\"F:\\SEED\\SEED_EEG\\Preprocessed_EEG/\", 1)\n",
    "gjj=temporal_feature(raws)"
   ]
  },
  {
   "cell_type": "code",
   "execution_count": 3,
   "id": "f03ec9f8-2812-42d9-9015-c7cfd3fa3257",
   "metadata": {},
   "outputs": [
    {
     "data": {
      "text/plain": [
       "numpy.ndarray"
      ]
     },
     "execution_count": 3,
     "metadata": {},
     "output_type": "execute_result"
    }
   ],
   "source": [
    "type(gjj)\n"
   ]
  },
  {
   "cell_type": "code",
   "execution_count": 4,
   "id": "995b782c-1a55-465c-b263-af0776e26937",
   "metadata": {},
   "outputs": [
    {
     "ename": "AttributeError",
     "evalue": "'list' object has no attribute 'info'",
     "output_type": "error",
     "traceback": [
      "\u001b[1;31m---------------------------------------------------------------------------\u001b[0m",
      "\u001b[1;31mAttributeError\u001b[0m                            Traceback (most recent call last)",
      "Cell \u001b[1;32mIn[4], line 1\u001b[0m\n\u001b[1;32m----> 1\u001b[0m \u001b[43mraws\u001b[49m\u001b[38;5;241;43m.\u001b[39;49m\u001b[43minfo\u001b[49m\n",
      "\u001b[1;31mAttributeError\u001b[0m: 'list' object has no attribute 'info'"
     ]
    }
   ],
   "source": [
    "raws.info"
   ]
  },
  {
   "cell_type": "code",
   "execution_count": 5,
   "id": "92ff9e84-d2df-4395-85b9-4f3a58f6d99b",
   "metadata": {},
   "outputs": [
    {
     "ename": "SyntaxError",
     "evalue": "invalid syntax (1650454924.py, line 1)",
     "output_type": "error",
     "traceback": [
      "\u001b[1;36m  Cell \u001b[1;32mIn[5], line 1\u001b[1;36m\u001b[0m\n\u001b[1;33m    data = sio.loadmat(F:\\SEED\\SEED_EEG\\Preprocessed_EEG\\/1_20131027.mat)\u001b[0m\n\u001b[1;37m                        ^\u001b[0m\n\u001b[1;31mSyntaxError\u001b[0m\u001b[1;31m:\u001b[0m invalid syntax\n"
     ]
    }
   ],
   "source": [
    "data = sio.loadmat(F:\\SEED\\SEED_EEG\\Preprocessed_EEG\\/1_20131027.mat)"
   ]
  },
  {
   "cell_type": "code",
   "execution_count": 6,
   "id": "7c559559-c378-4a1c-866a-255a7efba568",
   "metadata": {},
   "outputs": [
    {
     "ename": "SyntaxError",
     "evalue": "invalid syntax (3502781571.py, line 4)",
     "output_type": "error",
     "traceback": [
      "\u001b[1;36m  Cell \u001b[1;32mIn[6], line 4\u001b[1;36m\u001b[0m\n\u001b[1;33m    data = sio.loadmat(F:\\SEED\\SEED_EEG\\Preprocessed_EEG\\/1_20131027.mat)\u001b[0m\n\u001b[1;37m                        ^\u001b[0m\n\u001b[1;31mSyntaxError\u001b[0m\u001b[1;31m:\u001b[0m invalid syntax\n"
     ]
    }
   ],
   "source": [
    "import mne\n",
    "import scipy.io as sio\n",
    "import os\n",
    "data = sio.loadmat(F:\\SEED\\SEED_EEG\\Preprocessed_EEG\\/1_20131027.mat)"
   ]
  },
  {
   "cell_type": "code",
   "execution_count": 7,
   "id": "e3d813d9-fb57-4354-b382-4b3e36bf0925",
   "metadata": {},
   "outputs": [
    {
     "ename": "NameError",
     "evalue": "name 'sio' is not defined",
     "output_type": "error",
     "traceback": [
      "\u001b[1;31m---------------------------------------------------------------------------\u001b[0m",
      "\u001b[1;31mNameError\u001b[0m                                 Traceback (most recent call last)",
      "Cell \u001b[1;32mIn[7], line 1\u001b[0m\n\u001b[1;32m----> 1\u001b[0m data \u001b[38;5;241m=\u001b[39m \u001b[43msio\u001b[49m\u001b[38;5;241m.\u001b[39mloadmat(\u001b[38;5;124m'\u001b[39m\u001b[38;5;124mF:\u001b[39m\u001b[38;5;124m\\\u001b[39m\u001b[38;5;124mSEED\u001b[39m\u001b[38;5;124m\\\u001b[39m\u001b[38;5;124mSEED_EEG\u001b[39m\u001b[38;5;124m\\\u001b[39m\u001b[38;5;124mPreprocessed_EEG\u001b[39m\u001b[38;5;124m\\\u001b[39m\u001b[38;5;124m/1_20131027.mat\u001b[39m\u001b[38;5;124m'\u001b[39m)\n",
      "\u001b[1;31mNameError\u001b[0m: name 'sio' is not defined"
     ]
    }
   ],
   "source": [
    "data = sio.loadmat('F:\\SEED\\SEED_EEG\\Preprocessed_EEG\\/1_20131027.mat')"
   ]
  },
  {
   "cell_type": "code",
   "execution_count": 8,
   "id": "ae3b8b3a-6c6c-44d6-9249-058e545914da",
   "metadata": {},
   "outputs": [],
   "source": [
    "\n",
    "import mne\n",
    "import scipy.io as sio\n",
    "import os\n",
    "data = sio.loadmat('F:\\SEED\\SEED_EEG\\Preprocessed_EEG\\/1_20131027.mat')"
   ]
  },
  {
   "cell_type": "code",
   "execution_count": 9,
   "id": "f9c7787c-cb60-4382-9731-983e91dfa765",
   "metadata": {},
   "outputs": [
    {
     "ename": "AttributeError",
     "evalue": "'dict' object has no attribute 'info'",
     "output_type": "error",
     "traceback": [
      "\u001b[1;31m---------------------------------------------------------------------------\u001b[0m",
      "\u001b[1;31mAttributeError\u001b[0m                            Traceback (most recent call last)",
      "Cell \u001b[1;32mIn[9], line 1\u001b[0m\n\u001b[1;32m----> 1\u001b[0m \u001b[43mdata\u001b[49m\u001b[38;5;241;43m.\u001b[39;49m\u001b[43minfo\u001b[49m\n",
      "\u001b[1;31mAttributeError\u001b[0m: 'dict' object has no attribute 'info'"
     ]
    }
   ],
   "source": [
    "data.info"
   ]
  },
  {
   "cell_type": "code",
   "execution_count": null,
   "id": "ce5969d8-3a13-465d-a4a9-a6f9d35392e9",
   "metadata": {},
   "outputs": [],
   "source": []
  }
 ],
 "metadata": {
  "kernelspec": {
   "display_name": "Python 3 (ipykernel)",
   "language": "python",
   "name": "python3"
  },
  "language_info": {
   "codemirror_mode": {
    "name": "ipython",
    "version": 3
   },
   "file_extension": ".py",
   "mimetype": "text/x-python",
   "name": "python",
   "nbconvert_exporter": "python",
   "pygments_lexer": "ipython3",
   "version": "3.10.3"
  }
 },
 "nbformat": 4,
 "nbformat_minor": 5
}
